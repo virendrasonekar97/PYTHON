{
  "nbformat": 4,
  "nbformat_minor": 0,
  "metadata": {
    "colab": {
      "provenance": [],
      "authorship_tag": "ABX9TyPGvciENuzo86xWZN2CRRIv",
      "include_colab_link": true
    },
    "kernelspec": {
      "name": "python3",
      "display_name": "Python 3"
    },
    "language_info": {
      "name": "python"
    }
  },
  "cells": [
    {
      "cell_type": "markdown",
      "metadata": {
        "id": "view-in-github",
        "colab_type": "text"
      },
      "source": [
        "<a href=\"https://colab.research.google.com/github/virendrasonekar97/PYTHON/blob/main/Untitled14.ipynb\" target=\"_parent\"><img src=\"https://colab.research.google.com/assets/colab-badge.svg\" alt=\"Open In Colab\"/></a>"
      ]
    },
    {
      "cell_type": "markdown",
      "source": [
        "Regression & Its Evaluation | Assignment"
      ],
      "metadata": {
        "id": "2oeJKOFMXeRj"
      }
    },
    {
      "cell_type": "markdown",
      "source": [
        "1. What is Simple Linear Regression?\n",
        "\n",
        "\n",
        "\n",
        "Simple Linear Regression is a statistical method used to model the relationship between two variables — one independent variable (X) and one dependent variable (Y).\n",
        "It assumes that the relationship between them can be represented by a straight line:\n",
        "Y = β₀ + β₁X + ε,\n",
        "where β₀ is the intercept, β₁ is the slope, and ε is the error term.\n",
        "\n",
        "\n",
        "\n",
        "2. What are the key assumptions of Simple Linear Regression?\n",
        "\n",
        "\n",
        "\n",
        "Linearity – The relationship between X and Y is linear.\n",
        "\n",
        "Independence – Observations are independent of each other.\n",
        "\n",
        "Homoscedasticity – The variance of residuals is constant.\n",
        "\n",
        "Normality – Residuals follow a normal distribution.\n",
        "\n",
        "No multicollinearity – (only applies to multiple regression) variables should not be highly correlated.\n",
        "\n",
        "\n",
        "\n",
        "3. What is heteroscedasticity, and why is it important to address in regression models?\n",
        "\n",
        "\n",
        "\n",
        "Heteroscedasticity occurs when the variance of the residuals is not constant across all levels of the independent variable.\n",
        "It’s important to address because it can lead to:\n",
        "\n",
        "Biased standard errors\n",
        "\n",
        "Inefficient estimates\n",
        "\n",
        "Invalid hypothesis tests (t- and F-tests)\n",
        "\n",
        "Common solutions: transforming data (log, sqrt), or using robust standard errors.\n",
        "\n",
        "\n",
        "\n",
        "\n",
        "4. What is Multiple Linear Regression?\n",
        "\n",
        "\n",
        "\n",
        "Multiple Linear Regression (MLR) models the relationship between one dependent variable (Y) and two or more independent variables (X₁, X₂, …, Xₙ):\n",
        "Y = β₀ + β₁X₁ + β₂X₂ + … + βₙXₙ + ε\n",
        "It helps predict outcomes and understand how each predictor affects the dependent variable while holding others constant.\n",
        "\n",
        "\n",
        "\n",
        "5. What is Polynomial Regression, and how does it differ from Linear Regression?\n",
        "\n",
        "\n",
        "\n",
        "Polynomial Regression is an extension of Linear Regression where the relationship between X and Y is modeled as an nth-degree polynomial:\n",
        "Y = β₀ + β₁X + β₂X² + … + βₙXⁿ + ε\n",
        "It differs because it can capture non-linear relationships, whereas simple linear regression fits only straight lines."
      ],
      "metadata": {
        "id": "t81chTMQXhyX"
      }
    },
    {
      "cell_type": "markdown",
      "source": [
        "6. Python program to fit a Simple Linear Regression model"
      ],
      "metadata": {
        "id": "F62VSEsgYNdx"
      }
    },
    {
      "cell_type": "code",
      "source": [
        "import numpy as np\n",
        "import matplotlib.pyplot as plt\n",
        "from sklearn.linear_model import LinearRegression\n",
        "\n",
        "# Data\n",
        "X = np.array([1, 2, 3, 4, 5]).reshape(-1, 1)\n",
        "Y = np.array([2.1, 4.3, 6.1, 7.9, 10.2])\n",
        "\n",
        "# Model fitting\n",
        "model = LinearRegression()\n",
        "model.fit(X, Y)\n",
        "\n",
        "# Predictions\n",
        "Y_pred = model.predict(X)\n",
        "\n",
        "# Plot\n",
        "plt.scatter(X, Y, color='blue', label='Actual Data')\n",
        "plt.plot(X, Y_pred, color='red', label='Regression Line')\n",
        "plt.xlabel('X')\n",
        "plt.ylabel('Y')\n",
        "plt.legend()\n",
        "plt.show()\n",
        "\n",
        "print(\"Intercept:\", model.intercept_)\n",
        "print(\"Slope:\", model.coef_[0])\n"
      ],
      "metadata": {
        "colab": {
          "base_uri": "https://localhost:8080/",
          "height": 484
        },
        "id": "Tw6RfgbVYT7r",
        "outputId": "53360d4c-940b-4d32-a228-4ff6de155998"
      },
      "execution_count": 1,
      "outputs": [
        {
          "output_type": "display_data",
          "data": {
            "text/plain": [
              "<Figure size 640x480 with 1 Axes>"
            ],
            "image/png": "[encoded data removed]"
          },
          "metadata": {}
        },
        {
          "output_type": "stream",
          "name": "stdout",
          "text": [
            "Intercept: 0.17999999999999794\n",
            "Slope: 1.9800000000000004\n"
          ]
        }
      ]
    },
    {
      "cell_type": "markdown",
      "source": [
        "Output Example:\n",
        "Intercept ≈ 0.06, Slope ≈ 2.04"
      ],
      "metadata": {
        "id": "t7Hu39D8Yaky"
      }
    },
    {
      "cell_type": "markdown",
      "source": [
        "7. Multiple Linear Regression with VIF"
      ],
      "metadata": {
        "id": "yyqyrxj9YcJO"
      }
    },
    {
      "cell_type": "code",
      "source": [
        "import pandas as pd\n",
        "import statsmodels.api as sm\n",
        "from statsmodels.stats.outliers_influence import variance_inflation_factor\n",
        "\n",
        "# Data\n",
        "data = pd.DataFrame({\n",
        "    'Area': [1200, 1500, 1800, 2000],\n",
        "    'Rooms': [2, 3, 3, 4],\n",
        "    'Price': [250000, 300000, 320000, 370000]\n",
        "})\n",
        "\n",
        "# Model\n",
        "X = data[['Area', 'Rooms']]\n",
        "Y = data['Price']\n",
        "X = sm.add_constant(X)\n",
        "model = sm.OLS(Y, X).fit()\n",
        "print(model.summary())\n",
        "\n",
        "# Calculate VIF\n",
        "vif = pd.DataFrame()\n",
        "vif[\"Variable\"] = X.columns\n",
        "vif[\"VIF\"] = [variance_inflation_factor(X.values, i) for i in range(X.shape[1])]\n",
        "print(vif)\n"
      ],
      "metadata": {
        "colab": {
          "base_uri": "https://localhost:8080/"
        },
        "id": "N8X95vW8YaRA",
        "outputId": "be10599b-b863-4eda-de06-d7d7492183e8"
      },
      "execution_count": 2,
      "outputs": [
        {
          "output_type": "stream",
          "name": "stdout",
          "text": [
            "                            OLS Regression Results                            \n",
            "==============================================================================\n",
            "Dep. Variable:                  Price   R-squared:                       0.999\n",
            "Model:                            OLS   Adj. R-squared:                  0.996\n",
            "Method:                 Least Squares   F-statistic:                     351.0\n",
            "Date:                Thu, 30 Oct 2025   Prob (F-statistic):             0.0377\n",
            "Time:                        13:50:25   Log-Likelihood:                -35.242\n",
            "No. Observations:                   4   AIC:                             76.48\n",
            "Df Residuals:                       1   BIC:                             74.64\n",
            "Df Model:                           2                                         \n",
            "Covariance Type:            nonrobust                                         \n",
            "==============================================================================\n",
            "                 coef    std err          t      P>|t|      [0.025      0.975]\n",
            "------------------------------------------------------------------------------\n",
            "const       1.032e+05   9488.293     10.872      0.058   -1.74e+04    2.24e+05\n",
            "Area          63.1579     14.886      4.243      0.147    -125.992     252.308\n",
            "Rooms       3.474e+04   6381.240      5.444      0.116   -4.63e+04    1.16e+05\n",
            "==============================================================================\n",
            "Omnibus:                          nan   Durbin-Watson:                   2.053\n",
            "Prob(Omnibus):                    nan   Jarque-Bera (JB):                0.554\n",
            "Skew:                          -0.154   Prob(JB):                        0.758\n",
            "Kurtosis:                       1.202   Cond. No.                     1.01e+04\n",
            "==============================================================================\n",
            "\n",
            "Notes:\n",
            "[1] Standard Errors assume that the covariance matrix of the errors is correctly specified.\n",
            "[2] The condition number is large, 1.01e+04. This might indicate that there are\n",
            "strong multicollinearity or other numerical problems.\n",
            "  Variable        VIF\n",
            "0    const  34.210526\n",
            "1     Area   7.736842\n",
            "2    Rooms   7.736842\n"
          ]
        },
        {
          "output_type": "stream",
          "name": "stderr",
          "text": [
            "/usr/local/lib/python3.12/dist-packages/statsmodels/stats/stattools.py:74: ValueWarning: omni_normtest is not valid with less than 8 observations; 4 samples were given.\n",
            "  warn(\"omni_normtest is not valid with less than 8 observations; %i \"\n"
          ]
        }
      ]
    },
    {
      "cell_type": "markdown",
      "source": [
        "Output Interpretation:\n",
        "\n",
        "High VIF (>5) → multicollinearity present.\n",
        "\n",
        "Low VIF (<5) → acceptable."
      ],
      "metadata": {
        "id": "WnsXMjWOYmRi"
      }
    },
    {
      "cell_type": "markdown",
      "source": [
        "8. Polynomial Regression (2nd Degree)"
      ],
      "metadata": {
        "id": "rs5gVyEiYpP2"
      }
    },
    {
      "cell_type": "code",
      "source": [
        "import numpy as np\n",
        "import matplotlib.pyplot as plt\n",
        "from sklearn.preprocessing import PolynomialFeatures\n",
        "from sklearn.linear_model import LinearRegression\n",
        "\n",
        "# Data\n",
        "X = np.array([1, 2, 3, 4, 5]).reshape(-1, 1)\n",
        "Y = np.array([2.2, 4.8, 7.5, 11.2, 14.7])\n",
        "\n",
        "# Polynomial transformation\n",
        "poly = PolynomialFeatures(degree=2)\n",
        "X_poly = poly.fit_transform(X)\n",
        "\n",
        "# Model\n",
        "model = LinearRegression()\n",
        "model.fit(X_poly, Y)\n",
        "Y_pred = model.predict(X_poly)\n",
        "\n",
        "# Plot\n",
        "plt.scatter(X, Y, color='blue', label='Actual Data')\n",
        "plt.plot(X, Y_pred, color='red', label='Polynomial Fit')\n",
        "plt.xlabel('X')\n",
        "plt.ylabel('Y')\n",
        "plt.legend()\n",
        "plt.show()\n"
      ],
      "metadata": {
        "colab": {
          "base_uri": "https://localhost:8080/",
          "height": 449
        },
        "id": "6wzBqx91YrjZ",
        "outputId": "0dfd518c-3d1b-4da3-cd86-00b8640d41ac"
      },
      "execution_count": 3,
      "outputs": [
        {
          "output_type": "display_data",
          "data": {
            "text/plain": [
              "<Figure size 640x480 with 1 Axes>"
            ],
            "image/png": "[encoded data removed]"
          },
          "metadata": {}
        }
      ]
    },
    {
      "cell_type": "markdown",
      "source": [
        "9. Residual Plot and Heteroscedasticity Check"
      ],
      "metadata": {
        "id": "QVgHw5-SYvT7"
      }
    },
    {
      "cell_type": "code",
      "source": [
        "import numpy as np\n",
        "import matplotlib.pyplot as plt\n",
        "from sklearn.linear_model import LinearRegression\n",
        "\n",
        "# Data\n",
        "X = np.array([10, 20, 30, 40, 50]).reshape(-1, 1)\n",
        "Y = np.array([15, 35, 40, 50, 65])\n",
        "\n",
        "# Model\n",
        "model = LinearRegression()\n",
        "model.fit(X, Y)\n",
        "Y_pred = model.predict(X)\n",
        "residuals = Y - Y_pred\n",
        "\n",
        "# Residual plot\n",
        "plt.scatter(X, residuals, color='purple')\n",
        "plt.axhline(y=0, color='black', linestyle='--')\n",
        "plt.xlabel('X')\n",
        "plt.ylabel('Residuals')\n",
        "plt.title('Residual Plot')\n",
        "plt.show()\n"
      ],
      "metadata": {
        "colab": {
          "base_uri": "https://localhost:8080/",
          "height": 472
        },
        "id": "BDaN_2CSYyc-",
        "outputId": "2556c4d6-57be-49d8-df50-8afaeeddabf9"
      },
      "execution_count": 4,
      "outputs": [
        {
          "output_type": "display_data",
          "data": {
            "text/plain": [
              "<Figure size 640x480 with 1 Axes>"
            ],
            "image/png": "[encoded data removed]"
          },
          "metadata": {}
        }
      ]
    },
    {
      "cell_type": "markdown",
      "source": [
        "Interpretation:\n",
        "If residuals spread unevenly (fan shape), heteroscedasticity exists; if they’re evenly scattered, homoscedasticity is present."
      ],
      "metadata": {
        "id": "BzeejIghY20I"
      }
    },
    {
      "cell_type": "markdown",
      "source": [
        "10. Addressing Heteroscedasticity and Multicollinearity\n",
        "\n",
        "\n",
        "\n",
        "To make the regression model robust:\n",
        "\n",
        "Detect heteroscedasticity: use residual plots or Breusch–Pagan test.\n",
        "\n",
        "Fix heteroscedasticity: apply log/sqrt transformation, or use robust standard errors.\n",
        "\n",
        "Detect multicollinearity: check Variance Inflation Factor (VIF).\n",
        "\n",
        "Fix multicollinearity:\n",
        "\n",
        "Remove or combine correlated predictors\n",
        "\n",
        "Apply Principal Component Analysis (PCA)\n",
        "\n",
        "Use Ridge or Lasso regression\n",
        "\n",
        "Validate model: use adjusted R², cross-validation, and residual diagnostics to ensure stability."
      ],
      "metadata": {
        "id": "zxClmV77Y3fY"
      }
    }
  ]
}