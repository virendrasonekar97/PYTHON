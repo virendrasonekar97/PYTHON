{
  "nbformat": 4,
  "nbformat_minor": 0,
  "metadata": {
    "colab": {
      "provenance": [],
      "authorship_tag": "ABX9TyMjkwMXotX9A+t1RoKjjUS3",
      "include_colab_link": true
    },
    "kernelspec": {
      "name": "python3",
      "display_name": "Python 3"
    },
    "language_info": {
      "name": "python"
    }
  },
  "cells": [
    {
      "cell_type": "markdown",
      "metadata": {
        "id": "view-in-github",
        "colab_type": "text"
      },
      "source": [
        "<a href=\"https://colab.research.google.com/github/virendrasonekar97/PYTHON/blob/main/Data%20Types%20and%20Structures%20.ipynb\" target=\"_parent\"><img src=\"https://colab.research.google.com/assets/colab-badge.svg\" alt=\"Open In Colab\"/></a>"
      ]
    },
    {
      "cell_type": "markdown",
      "source": [],
      "metadata": {
        "id": "SzIvxQ1eZ_W-"
      }
    },
    {
      "cell_type": "markdown",
      "source": [
        "Theory Questions\n",
        "\n",
        "1. What are data structures, and why are they important?\n",
        "Answer:\n",
        "Data structures are ways to organize and store data to perform operations efficiently. They are important because they help manage large amounts of data, allow efficient searching, insertion, deletion, and improve the performance and scalability of programs.\n",
        "\n",
        "2. Explain the difference between mutable and immutable data types with examples.\n",
        "Answer:\n",
        "\n",
        "Mutable: Can be changed after creation (e.g., Python lists, dictionaries).\n",
        "Example: my_list = ; my_list=5\n",
        "\n",
        "Immutable: Cannot be changed after creation (e.g., Python strings, tuples).\n",
        "Example: my_str = \"hello\"; my_str = \"H\" (Error!)\n",
        "\n",
        "3. What are the main differences between lists and tuples in Python?\n",
        "Answer:\n",
        "\n",
        "Lists: Mutable, slower, can change elements.\n",
        "\n",
        "Tuples: Immutable, faster, used for data integrity.\n",
        "\n",
        "4. Describe how dictionaries store data.\n",
        "Answer:\n",
        "Dictionaries store data as key-value pairs. Each key maps to a value, and keys must be unique.\n",
        "\n",
        "5. Why might you use a set instead of a list in Python?\n",
        "Answer:\n",
        "Sets automatically remove duplicates and allow fast membership checks. Use sets when uniqueness of elements is needed.\n",
        "\n",
        "6. What is a string in Python, and how is it different from a list?\n",
        "Answer:\n",
        "A string is an immutable sequence of characters. Unlike lists, strings cannot be changed after creation.\n",
        "\n",
        "7. How do tuples ensure data integrity in Python?\n",
        "Answer:\n",
        "Tuples are immutable, meaning their contents cannot be changed, ensuring data remains constant throughout the program.\n",
        "\n",
        "8. What is a hash table, and how does it relate to dictionaries in Python?\n",
        "Answer:\n",
        "A hash table stores data using a key hash. Python dictionaries use hash tables for fast access and retrieval.\n",
        "\n",
        "9. Can lists contain different data types in Python?\n",
        "Answer:\n",
        "Yes. A list can have any mix of data types, e.g., [1, \"two\", 3.0].\n",
        "\n",
        "10. Explain why strings are immutable in Python.\n",
        "Answer:\n",
        "Immutable objects like strings allow safe sharing, less memory usage, and prevent accidental changes, making programs safer and faster.\n",
        "\n",
        "11. What advantages do dictionaries offer over lists for certain tasks?\n",
        "Answer:\n",
        "Dictionaries allow fast lookup using keys (O(1)), while lists require linear search (O(n)). Use dictionaries for key-value mapping.\n",
        "\n",
        "12. Describe a scenario where using a tuple would be preferable over a list.\n",
        "Answer:\n",
        "Tuples are preferable when storing data that should not change, e.g., coordinates (x, y) or days of the week.\n",
        "\n",
        "13. How do sets handle duplicate values in Python?\n",
        "Answer:\n",
        "Sets automatically remove duplicates. Only unique elements are stored.\n",
        "\n",
        "14. How does the “in” keyword work differently for lists and dictionaries?\n",
        "Answer:\n",
        "\n",
        "List: Checks if element is present\n",
        "x in\n",
        "\n",
        "Dictionary: Checks if key is present\n",
        "k in {'a':1}\n",
        "\n",
        "15. Can you modify the elements of a tuple? Explain why or why not.\n",
        "Answer:\n",
        "No, tuples are immutable. Once created, elements cannot be changed, added, or removed.\n",
        "\n",
        "16. What is a nested dictionary, and give an example of its use case.\n",
        "Answer:\n",
        "A nested dictionary is a dictionary inside another dictionary.\n",
        "Example:\n",
        "students = {'John': {'age': 25, 'city': 'NY'}}\n",
        "Use case: Storing complex data like student details.\n",
        "\n",
        "17. Describe the time complexity of accessing elements in a dictionary.\n",
        "Answer:\n",
        "Average case is O(1), meaning access is very fast due to hash table implementation.\n",
        "\n",
        "18. In what situations are lists preferred over dictionaries?\n",
        "Answer:\n",
        "When you need ordered data, allow duplicates, or access via position (index).\n",
        "\n",
        "19. Why are dictionaries considered unordered, and how does that affect data retrieval?\n",
        "Answer:\n",
        "Dictionaries don't preserve insertion order before Python 3.7. Retrieval is via keys, not their order.\n",
        "\n",
        "20. Explain the difference between a list and a dictionary in terms of data retrieval.\n",
        "Answer:\n",
        "\n",
        "List: Access via index (position)\n",
        "\n",
        "Dictionary: Access via key (unique identifier)\n",
        "\n",
        "\n",
        "\n"
      ],
      "metadata": {
        "id": "fkRWigXSajo_"
      }
    },
    {
      "cell_type": "markdown",
      "source": [
        "practical questions"
      ],
      "metadata": {
        "id": "CF9HxZcWcbQ-"
      }
    },
    {
      "cell_type": "markdown",
      "source": [
        "1. Create a string with your name and print it"
      ],
      "metadata": {
        "id": "LBI-4ORTc6t4"
      }
    },
    {
      "cell_type": "code",
      "source": [
        "name = \"virendra sonekar\"\n",
        "print(name)"
      ],
      "metadata": {
        "colab": {
          "base_uri": "https://localhost:8080/"
        },
        "id": "RxkvshQQceVB",
        "outputId": "181a9175-dc4b-4142-c2ab-9f9edae5801b"
      },
      "execution_count": null,
      "outputs": [
        {
          "output_type": "stream",
          "name": "stdout",
          "text": [
            "virendra sonekar\n"
          ]
        }
      ]
    },
    {
      "cell_type": "markdown",
      "source": [
        "2. Find length of \"Hello World\"\n",
        "python"
      ],
      "metadata": {
        "id": "fhqrbCAXdGnY"
      }
    },
    {
      "cell_type": "code",
      "source": [
        "s = \"Hello World\"\n",
        "print(len(s))"
      ],
      "metadata": {
        "colab": {
          "base_uri": "https://localhost:8080/"
        },
        "id": "WmyNmz-NdKXc",
        "outputId": "60c47d5e-5987-4851-a0cf-585990ab471b"
      },
      "execution_count": null,
      "outputs": [
        {
          "output_type": "stream",
          "name": "stdout",
          "text": [
            "11\n"
          ]
        }
      ]
    },
    {
      "cell_type": "markdown",
      "source": [
        "3. Slice first 3 characters from \"Python Programming\""
      ],
      "metadata": {
        "id": "incqPwU9dioT"
      }
    },
    {
      "cell_type": "code",
      "source": [
        "s = \"Python Programming\"\n",
        "print(s.upper())"
      ],
      "metadata": {
        "colab": {
          "base_uri": "https://localhost:8080/"
        },
        "id": "2-md5z8-dmF_",
        "outputId": "06c4df81-b264-4de1-e602-984a6e97e451"
      },
      "execution_count": null,
      "outputs": [
        {
          "output_type": "stream",
          "name": "stdout",
          "text": [
            "PYTHON PROGRAMMING\n"
          ]
        }
      ]
    },
    {
      "cell_type": "markdown",
      "source": [
        "4. Convert \"hello\" to uppercase"
      ],
      "metadata": {
        "id": "lV4S3cAdd3ve"
      }
    },
    {
      "cell_type": "code",
      "source": [
        "s = \"hello\"\n",
        "print(s.upper())"
      ],
      "metadata": {
        "colab": {
          "base_uri": "https://localhost:8080/"
        },
        "id": "BNfHw68Vd7X2",
        "outputId": "ea5c1423-0d50-47a7-bc19-297b47e82162"
      },
      "execution_count": null,
      "outputs": [
        {
          "output_type": "stream",
          "name": "stdout",
          "text": [
            "HELLO\n"
          ]
        }
      ]
    },
    {
      "cell_type": "markdown",
      "source": [
        "5. Replace \"apple\" with \"orange\" in \"I like apple\""
      ],
      "metadata": {
        "id": "pRlutHRUeHTB"
      }
    },
    {
      "cell_type": "code",
      "source": [
        "s = \"I like apple\"\n",
        "print(s.replace(\"apple\", \"orange\"))\n"
      ],
      "metadata": {
        "colab": {
          "base_uri": "https://localhost:8080/"
        },
        "id": "Hew_g8q9eNQj",
        "outputId": "e9a0f90f-9716-481a-fe70-6e5c75d17eca"
      },
      "execution_count": null,
      "outputs": [
        {
          "output_type": "stream",
          "name": "stdout",
          "text": [
            "I like orange\n"
          ]
        }
      ]
    },
    {
      "cell_type": "markdown",
      "source": [
        "6. Create a list with numbers 1 to 5 and print it"
      ],
      "metadata": {
        "id": "XBU7-NsZecdw"
      }
    },
    {
      "cell_type": "code",
      "source": [
        "lst = [1, 2, 3, 4, 5]\n",
        "print(lst)"
      ],
      "metadata": {
        "colab": {
          "base_uri": "https://localhost:8080/"
        },
        "id": "tVCsMmMXehdK",
        "outputId": "b72d39aa-bca7-4984-daf6-3fa4c8ec2796"
      },
      "execution_count": null,
      "outputs": [
        {
          "output_type": "stream",
          "name": "stdout",
          "text": [
            "[1, 2, 3, 4, 5]\n"
          ]
        }
      ]
    },
    {
      "cell_type": "markdown",
      "source": [
        "7. Write a code to append the number 10 to the list [1, 2, 3, 4]"
      ],
      "metadata": {
        "id": "kwDg15TGfCw9"
      }
    },
    {
      "cell_type": "code",
      "source": [
        "lst = [1, 2, 3, 4]\n",
        "lst.append(10)\n",
        "print(lst)\n"
      ],
      "metadata": {
        "colab": {
          "base_uri": "https://localhost:8080/"
        },
        "id": "YgMpvHIGex0E",
        "outputId": "5b0c8d11-29d8-4b0f-b600-11655178514b"
      },
      "execution_count": null,
      "outputs": [
        {
          "output_type": "stream",
          "name": "stdout",
          "text": [
            "[1, 2, 3, 4, 10]\n"
          ]
        }
      ]
    },
    {
      "cell_type": "markdown",
      "source": [
        "8. Write a code to remove the number 3 from the list [1, 2, 3, 4, 5]"
      ],
      "metadata": {
        "id": "q0QclUBYfPqP"
      }
    },
    {
      "cell_type": "code",
      "source": [
        "lst = [1, 2, 3, 4, 5]\n",
        "lst.remove(3)\n",
        "print(lst)"
      ],
      "metadata": {
        "colab": {
          "base_uri": "https://localhost:8080/"
        },
        "id": "zqhEvrV6flmk",
        "outputId": "2927dce3-ada6-412d-e419-c329eca7530a"
      },
      "execution_count": null,
      "outputs": [
        {
          "output_type": "stream",
          "name": "stdout",
          "text": [
            "[1, 2, 4, 5]\n"
          ]
        }
      ]
    },
    {
      "cell_type": "markdown",
      "source": [
        "9 Write a code to access the second element in the list ['a', 'b', 'c', 'd']"
      ],
      "metadata": {
        "id": "ULxmXHm_fsoN"
      }
    },
    {
      "cell_type": "code",
      "source": [
        "\n",
        "#### 9. Access the second element in ['a', 'b', 'c', 'd']\n",
        "\n",
        "lst = ['a', 'b', 'c', 'd']\n",
        "print(lst[1])   # Indexing starts at 0\n"
      ],
      "metadata": {
        "colab": {
          "base_uri": "https://localhost:8080/"
        },
        "id": "E_35eXzig8vO",
        "outputId": "f79420fe-7914-4dd4-e907-403f7dcf0cfa"
      },
      "execution_count": null,
      "outputs": [
        {
          "output_type": "stream",
          "name": "stdout",
          "text": [
            "b\n"
          ]
        }
      ]
    },
    {
      "cell_type": "markdown",
      "source": [
        "10. Write a code to reverse the list [10, 20, 30, 40, 50]"
      ],
      "metadata": {
        "id": "Eqi2Da3LhQke"
      }
    },
    {
      "cell_type": "code",
      "source": [
        "lst = [10, 20, 30, 40, 50]\n",
        "print(lst[::-1])\n"
      ],
      "metadata": {
        "colab": {
          "base_uri": "https://localhost:8080/"
        },
        "id": "Ls5fE3JMhYyr",
        "outputId": "2265fd2c-e47c-4389-a779-784b0551fd01"
      },
      "execution_count": null,
      "outputs": [
        {
          "output_type": "stream",
          "name": "stdout",
          "text": [
            "[50, 40, 30, 20, 10]\n"
          ]
        }
      ]
    },
    {
      "cell_type": "markdown",
      "source": [
        "11. Write a code to create a tuple with the elements 100, 200, 300 and print it."
      ],
      "metadata": {
        "id": "ENDe0BI8hhiV"
      }
    },
    {
      "cell_type": "code",
      "source": [
        "\n",
        "#### 11. Create a tuple with 100, 200, 300 and print\n",
        "\n",
        "tpl = (100, 200, 300)\n",
        "print(tpl)\n"
      ],
      "metadata": {
        "colab": {
          "base_uri": "https://localhost:8080/"
        },
        "id": "nfmQ91BNhno9",
        "outputId": "5ab5763a-18ff-4277-c0b5-faf0cc83b1fc"
      },
      "execution_count": null,
      "outputs": [
        {
          "output_type": "stream",
          "name": "stdout",
          "text": [
            "(100, 200, 300)\n"
          ]
        }
      ]
    },
    {
      "cell_type": "markdown",
      "source": [
        "12. Write a code to access the second-to-last element of the tuple ('red', 'green', 'blue', 'yellow')"
      ],
      "metadata": {
        "id": "p898hFN-hvak"
      }
    },
    {
      "cell_type": "code",
      "source": [
        "colors = ('red', 'green', 'blue', 'yellow')\n",
        "print(colors[-2])\n"
      ],
      "metadata": {
        "colab": {
          "base_uri": "https://localhost:8080/"
        },
        "id": "5MGmK3y1hz8R",
        "outputId": "7605fd16-5e25-4e0d-bdc3-9878a4259728"
      },
      "execution_count": null,
      "outputs": [
        {
          "output_type": "stream",
          "name": "stdout",
          "text": [
            "blue\n"
          ]
        }
      ]
    },
    {
      "cell_type": "markdown",
      "source": [
        "13. Write a code to find the minimum number in the tuple (10, 20, 5, 15)."
      ],
      "metadata": {
        "id": "cbR9bz0jh5A-"
      }
    },
    {
      "cell_type": "code",
      "source": [
        "tpl = (10, 20, 5, 15)\n",
        "print(min(tpl))\n"
      ],
      "metadata": {
        "colab": {
          "base_uri": "https://localhost:8080/"
        },
        "id": "6VDa0Kizh-eG",
        "outputId": "49a2d673-f1e7-4a93-c9c9-0f34c34cc48e"
      },
      "execution_count": null,
      "outputs": [
        {
          "output_type": "stream",
          "name": "stdout",
          "text": [
            "5\n"
          ]
        }
      ]
    },
    {
      "cell_type": "markdown",
      "source": [
        "14. Write a code to find the index of the element \"cat\" in the tuple ('dog', 'cat', 'rabbit')"
      ],
      "metadata": {
        "id": "2rbDl8B_iCi6"
      }
    },
    {
      "cell_type": "code",
      "source": [
        "tpl = ('dog', 'cat', 'rabbit')\n",
        "print(tpl.index(\"cat\"))\n"
      ],
      "metadata": {
        "colab": {
          "base_uri": "https://localhost:8080/"
        },
        "id": "pX8IwNDEiGW3",
        "outputId": "3212fea0-aab0-4ed4-f6d6-fb59df22e320"
      },
      "execution_count": null,
      "outputs": [
        {
          "output_type": "stream",
          "name": "stdout",
          "text": [
            "1\n"
          ]
        }
      ]
    },
    {
      "cell_type": "markdown",
      "source": [
        "15. Write a code to create a tuple containing three different fruits and check if \"kiwi\" is in it."
      ],
      "metadata": {
        "id": "5HIGLvKuiKs4"
      }
    },
    {
      "cell_type": "code",
      "source": [
        "fruits = ('apple', 'banana', 'kiwi')\n",
        "print(\"kiwi\" in fruits)\n"
      ],
      "metadata": {
        "colab": {
          "base_uri": "https://localhost:8080/"
        },
        "id": "ggs-wgyMiPwz",
        "outputId": "7cc09e94-da33-43a5-8542-47b4b54fb3ac"
      },
      "execution_count": null,
      "outputs": [
        {
          "output_type": "stream",
          "name": "stdout",
          "text": [
            "True\n"
          ]
        }
      ]
    },
    {
      "cell_type": "markdown",
      "source": [
        "16. Write a code to create a set with the elements 'a', 'b', 'c' and print it."
      ],
      "metadata": {
        "id": "0nXZQ58kiVLy"
      }
    },
    {
      "cell_type": "code",
      "source": [
        "s = {'a', 'b', 'c'}\n",
        "print(s)\n"
      ],
      "metadata": {
        "colab": {
          "base_uri": "https://localhost:8080/"
        },
        "id": "pflLSU2_iX1t",
        "outputId": "a200eadb-f170-40a3-a92b-f021fa37d7cf"
      },
      "execution_count": null,
      "outputs": [
        {
          "output_type": "stream",
          "name": "stdout",
          "text": [
            "{'c', 'b', 'a'}\n"
          ]
        }
      ]
    },
    {
      "cell_type": "markdown",
      "source": [
        "17. Write a code to clear all elements from the set {1, 2, 3, 4, 5}.\n",
        "\n"
      ],
      "metadata": {
        "id": "wUrYJlqPibRA"
      }
    },
    {
      "cell_type": "code",
      "source": [
        "s = {1, 2, 3, 4, 5}\n",
        "s.clear()\n",
        "print(s)\n"
      ],
      "metadata": {
        "colab": {
          "base_uri": "https://localhost:8080/"
        },
        "id": "iqR5ZEr0if2I",
        "outputId": "99ef0945-cdc9-4a33-b215-e31c5e263ea3"
      },
      "execution_count": null,
      "outputs": [
        {
          "output_type": "stream",
          "name": "stdout",
          "text": [
            "set()\n"
          ]
        }
      ]
    },
    {
      "cell_type": "markdown",
      "source": [
        "18. Write a code to remove the element 4 from the set {1, 2, 3, 4}."
      ],
      "metadata": {
        "id": "_pIKbZKgiwkl"
      }
    },
    {
      "cell_type": "code",
      "source": [
        "s = {1, 2, 3, 4}\n",
        "s.remove(4)\n",
        "print(s)\n"
      ],
      "metadata": {
        "colab": {
          "base_uri": "https://localhost:8080/"
        },
        "id": "YxNX7rlsixuF",
        "outputId": "d59edffd-2306-4df7-a90f-7cf256b19922"
      },
      "execution_count": null,
      "outputs": [
        {
          "output_type": "stream",
          "name": "stdout",
          "text": [
            "{1, 2, 3}\n"
          ]
        }
      ]
    },
    {
      "cell_type": "markdown",
      "source": [
        "19. Write a code to find the union of two sets {1, 2, 3} and {3, 4, 5}"
      ],
      "metadata": {
        "id": "i5Fh4fQni1bf"
      }
    },
    {
      "cell_type": "code",
      "source": [
        "s1 = {1, 2, 3}\n",
        "s2 = {3, 4, 5}\n",
        "print(s1 | s2)\n"
      ],
      "metadata": {
        "colab": {
          "base_uri": "https://localhost:8080/"
        },
        "id": "K8bmyLHoi4pM",
        "outputId": "45cce4bf-d8e4-469d-d024-89f67c42db4c"
      },
      "execution_count": null,
      "outputs": [
        {
          "output_type": "stream",
          "name": "stdout",
          "text": [
            "{1, 2, 3, 4, 5}\n"
          ]
        }
      ]
    },
    {
      "cell_type": "markdown",
      "source": [
        "20. Write a code to find the intersection of two sets {1, 2, 3} and {2, 3, 4}."
      ],
      "metadata": {
        "id": "-kJPU6yhi9S-"
      }
    },
    {
      "cell_type": "code",
      "source": [
        "s1 = {1, 2, 3}\n",
        "s2 = {2, 3, 4}\n",
        "print(s1 & s2)\n"
      ],
      "metadata": {
        "colab": {
          "base_uri": "https://localhost:8080/"
        },
        "id": "e56T5fuAjAuY",
        "outputId": "fb42df35-690f-41fb-fefd-424df0292539"
      },
      "execution_count": null,
      "outputs": [
        {
          "output_type": "stream",
          "name": "stdout",
          "text": [
            "{2, 3}\n"
          ]
        }
      ]
    },
    {
      "cell_type": "markdown",
      "source": [
        "21. Create a dictionary with keys \"name\", \"age\", \"city\" and print"
      ],
      "metadata": {
        "id": "x8D0CuX4jEjS"
      }
    },
    {
      "cell_type": "code",
      "source": [
        "d = {\"name\": \"John\", \"age\": 30, \"city\": \"New York\"}\n",
        "print(d)\n"
      ],
      "metadata": {
        "colab": {
          "base_uri": "https://localhost:8080/"
        },
        "id": "qoYAkoZmjHuG",
        "outputId": "e964f1b8-5a34-4745-902d-7bd7df50feb7"
      },
      "execution_count": null,
      "outputs": [
        {
          "output_type": "stream",
          "name": "stdout",
          "text": [
            "{'name': 'John', 'age': 30, 'city': 'New York'}\n"
          ]
        }
      ]
    },
    {
      "cell_type": "markdown",
      "source": [
        "22. Add \"country\": \"USA\" to {'name': 'John', 'age': 25}"
      ],
      "metadata": {
        "id": "ghjkqMpZjL9Y"
      }
    },
    {
      "cell_type": "code",
      "source": [
        "d = {'name': 'John', 'age': 25}\n",
        "d['country'] = 'USA'\n",
        "print(d)\n"
      ],
      "metadata": {
        "colab": {
          "base_uri": "https://localhost:8080/"
        },
        "id": "9hkutUoejOIa",
        "outputId": "04671b52-2b57-42ae-b36a-d08d0e7c28c6"
      },
      "execution_count": null,
      "outputs": [
        {
          "output_type": "stream",
          "name": "stdout",
          "text": [
            "{'name': 'John', 'age': 25, 'country': 'USA'}\n"
          ]
        }
      ]
    },
    {
      "cell_type": "markdown",
      "source": [
        "23. Access value for \"name\" in {'name': 'Alice', 'age': 30}"
      ],
      "metadata": {
        "id": "BNul-AcAjQuc"
      }
    },
    {
      "cell_type": "code",
      "source": [
        "d = {'name': 'Alice', 'age': 30}\n",
        "print(d['name'])\n"
      ],
      "metadata": {
        "colab": {
          "base_uri": "https://localhost:8080/"
        },
        "id": "BWZPuFhijVJT",
        "outputId": "a750ce0a-415a-4447-e376-3f042167226a"
      },
      "execution_count": null,
      "outputs": [
        {
          "output_type": "stream",
          "name": "stdout",
          "text": [
            "Alice\n"
          ]
        }
      ]
    },
    {
      "cell_type": "markdown",
      "source": [
        "24. Remove key \"age\" from {'name': 'Bob', 'age': 22, 'city': 'New York'}"
      ],
      "metadata": {
        "id": "sjJGN38FjZop"
      }
    },
    {
      "cell_type": "code",
      "source": [
        "d = {'name': 'Bob', 'age': 22, 'city': 'New York'}\n",
        "del d['age']\n",
        "print(d)\n"
      ],
      "metadata": {
        "colab": {
          "base_uri": "https://localhost:8080/"
        },
        "id": "57wXze2vjdDE",
        "outputId": "d70db794-bf5d-4b7c-d056-2c682318c6f7"
      },
      "execution_count": null,
      "outputs": [
        {
          "output_type": "stream",
          "name": "stdout",
          "text": [
            "{'name': 'Bob', 'city': 'New York'}\n"
          ]
        }
      ]
    },
    {
      "cell_type": "markdown",
      "source": [
        "25. Check if \"city\" exists in {'name': 'Alice', 'city': 'Paris'}"
      ],
      "metadata": {
        "id": "46YaHEz9jgoo"
      }
    },
    {
      "cell_type": "code",
      "source": [
        "d = {'name': 'Alice', 'city': 'Paris'}\n",
        "print(\"city\" in d)\n"
      ],
      "metadata": {
        "colab": {
          "base_uri": "https://localhost:8080/"
        },
        "id": "T_jPU1AajjWC",
        "outputId": "e7b905c1-4793-4807-9c58-25ddc29e80de"
      },
      "execution_count": null,
      "outputs": [
        {
          "output_type": "stream",
          "name": "stdout",
          "text": [
            "True\n"
          ]
        }
      ]
    },
    {
      "cell_type": "markdown",
      "source": [
        "26. Create a list, tuple, and dictionary, and print them all"
      ],
      "metadata": {
        "id": "iz2OFwhAjmU9"
      }
    },
    {
      "cell_type": "code",
      "source": [
        "lst = [1,2,3]\n",
        "tpl = (4,5,6)\n",
        "d = {'a':1, 'b':2}\n",
        "print(lst, tpl, d)\n"
      ],
      "metadata": {
        "colab": {
          "base_uri": "https://localhost:8080/"
        },
        "id": "hGn7tWJ9jpzY",
        "outputId": "3c323312-ee8b-4633-a95c-d6ba0db923c8"
      },
      "execution_count": null,
      "outputs": [
        {
          "output_type": "stream",
          "name": "stdout",
          "text": [
            "[1, 2, 3] (4, 5, 6) {'a': 1, 'b': 2}\n"
          ]
        }
      ]
    },
    {
      "cell_type": "markdown",
      "source": [
        "27. List of 5 random numbers between 1-100, sort and print"
      ],
      "metadata": {
        "id": "S18coqxBjzNN"
      }
    },
    {
      "cell_type": "code",
      "source": [
        "import random\n",
        "lst = random.sample(range(1, 101), 5)\n",
        "lst.sort()\n",
        "print(lst)\n"
      ],
      "metadata": {
        "colab": {
          "base_uri": "https://localhost:8080/"
        },
        "id": "I-3fX89qj1nn",
        "outputId": "cde3a9ff-a349-4128-8b5e-f57f9fe179f9"
      },
      "execution_count": null,
      "outputs": [
        {
          "output_type": "stream",
          "name": "stdout",
          "text": [
            "[8, 11, 64, 65, 98]\n"
          ]
        }
      ]
    },
    {
      "cell_type": "markdown",
      "source": [
        "28. Create a list with strings and print element at index 3"
      ],
      "metadata": {
        "id": "400hmKD4j8_8"
      }
    },
    {
      "cell_type": "code",
      "source": [
        "lst = [\"apple\", \"banana\", \"cherry\", \"date\", \"kiwi\"]\n",
        "print(lst[3])\n"
      ],
      "metadata": {
        "colab": {
          "base_uri": "https://localhost:8080/"
        },
        "id": "6Mv2E7yPkECL",
        "outputId": "3ae3a221-30fe-46ca-99d9-2938ff34a81c"
      },
      "execution_count": null,
      "outputs": [
        {
          "output_type": "stream",
          "name": "stdout",
          "text": [
            "date\n"
          ]
        }
      ]
    },
    {
      "cell_type": "markdown",
      "source": [
        "29. Combine two dictionaries and print"
      ],
      "metadata": {
        "id": "KVobmYgFkJta"
      }
    },
    {
      "cell_type": "code",
      "source": [
        "d1 = {'a':1, 'b':2}\n",
        "d2 = {'c':3, 'd':4}\n",
        "d3 = {**d1, **d2}\n",
        "print(d3)\n"
      ],
      "metadata": {
        "colab": {
          "base_uri": "https://localhost:8080/"
        },
        "id": "fF6tUM0VkRpc",
        "outputId": "355d5f5e-9e44-4acc-c1f8-09443205e7c5"
      },
      "execution_count": null,
      "outputs": [
        {
          "output_type": "stream",
          "name": "stdout",
          "text": [
            "{'a': 1, 'b': 2, 'c': 3, 'd': 4}\n"
          ]
        }
      ]
    },
    {
      "cell_type": "markdown",
      "source": [
        "30. Convert list of strings to set"
      ],
      "metadata": {
        "id": "oAl6jddIkV--"
      }
    },
    {
      "cell_type": "code",
      "source": [
        "lst = [\"apple\", \"banana\", \"cherry\"]\n",
        "s = set(lst)\n",
        "print(s)\n"
      ],
      "metadata": {
        "colab": {
          "base_uri": "https://localhost:8080/"
        },
        "id": "YUSytuG8kZz8",
        "outputId": "cf05d45e-5be4-457a-cd9c-5fc1e19673c9"
      },
      "execution_count": null,
      "outputs": [
        {
          "output_type": "stream",
          "name": "stdout",
          "text": [
            "{'apple', 'cherry', 'banana'}\n"
          ]
        }
      ]
    }
  ]
}