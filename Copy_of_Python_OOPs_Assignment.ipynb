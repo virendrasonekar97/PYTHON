{
  "nbformat": 4,
  "nbformat_minor": 0,
  "metadata": {
    "colab": {
      "provenance": [],
      "authorship_tag": "ABX9TyP545wujnmy6w+v6vvjREar",
      "include_colab_link": true
    },
    "kernelspec": {
      "name": "python3",
      "display_name": "Python 3"
    },
    "language_info": {
      "name": "python"
    }
  },
  "cells": [
    {
      "cell_type": "markdown",
      "metadata": {
        "id": "view-in-github",
        "colab_type": "text"
      },
      "source": [
        "<a href=\"https://colab.research.google.com/github/virendrasonekar97/PYTHON/blob/main/Copy_of_Python_OOPs_Assignment.ipynb\" target=\"_parent\"><img src=\"https://colab.research.google.com/assets/colab-badge.svg\" alt=\"Open In Colab\"/></a>"
      ]
    },
    {
      "cell_type": "markdown",
      "source": [
        "Python OOPs Questions"
      ],
      "metadata": {
        "id": "IrTktWg0FDdk"
      }
    },
    {
      "cell_type": "markdown",
      "source": [
        " Core OOP Concepts\n",
        "\n",
        " What is Object-Oriented Programming (OOP)?\n",
        "**OOP** is a programming paradigm that organizes software design around data (objects) and the operations (methods) that can be performed on them, promoting **modularity**, **reusability**, and **encapsulation**.[1]\n",
        "\n",
        "# What is a Class in OOP?\n",
        "A **class** is a blueprint for creating objects, defining attributes and methods that describe the behavior and state of the objects.[1]\n",
        "\n",
        "# What is an Object in OOP?\n",
        "An **object** is an instance of a class, representing a specific entity with defined attributes and behavior.[1]\n",
        "\n",
        "# Difference Between Abstraction and Encapsulation\n",
        "- **Abstraction** hides complex implementation details and exposes only essential features.\n",
        "- **Encapsulation** restricts access to internal states by wrapping data and code together, often using access modifiers.[1]\n",
        "\n",
        "# What Are Dunder Methods in Python?\n",
        "**Dunder methods** (double underscore methods) are special, built-in Python methods like `__init__`, `__str__`, and `__add__` that enable operator overloading and other advanced behaviors.[1]\n",
        "\n",
        "# Inheritance in OOP\n",
        "**Inheritance** allows a class (child) to inherit attributes and methods from another class (parent), enabling code reuse and hierarchical relationships.[1]\n",
        "\n",
        "# What is Polymorphism in OOP?\n",
        "**Polymorphism** allows objects of different classes to be treated as objects of a common superclass, enabling the same interface to invoke different implementations.[1]\n",
        "\n",
        "# How is Encapsulation Achieved in Python?\n",
        "Encapsulation is achieved using private/protected attributes (with `_` or `__`) and getter/setter methods to control access.[1]\n",
        "\n",
        "# Constructor in Python\n",
        "A **constructor** is the `__init__` method, used to initialize an object's attributes when it is created.[1]\n",
        "\n",
        "# Methods and Decorators\n",
        "\n",
        "# Class and Static Methods\n",
        "- **Class methods**: Use `@classmethod`, take `cls` as the first argument; can modify class state.\n",
        "- **Static methods**: Use `@staticmethod`, don't take `self` or `cls`; utility functions within the class.\n",
        "\n",
        "# Method Overloading vs Overriding\n",
        "- **Overloading**: Having multiple methods with the same name but different parameters (not natively supported in Python).\n",
        "- **Overriding**: Redefining a method in a subclass that exists in the parent class.[1]\n",
        "\n",
        "# Property Decorator in Python\n",
        "The `@property` decorator allows a method to be accessed as an attribute, enabling controlled access to private variables.[1]\n",
        "\n",
        "# Importance and Types\n",
        "\n",
        "# Why Polymorphism Is Important\n",
        "Polymorphism is crucial because it enables flexible code, improves modularity, and allows for interchangeable object usage.[1]\n",
        "\n",
        "# Abstract Class in Python\n",
        "An **abstract class** is a class that cannot be instantiated and often contains abstract methods that must be implemented by subclasses, typically using the `abc` module.[1]\n",
        "\n",
        "# Advantages of OOP\n",
        "- Code reuse through inheritance.\n",
        "- Modularity via encapsulation.\n",
        "- Enhanced maintainability.\n",
        "- Improved flexibility and scalability.[1]\n",
        "\n",
        "# Class Variable vs Instance Variable\n",
        "\n",
        "|         | Class Variable            | Instance Variable              |\n",
        "|---------|--------------------------|-------------------------------|\n",
        "| Scope   | Shared by all instances  | Unique to each object         |\n",
        "| Access  | Accessed via class/obj   | Accessed via instance only    |[1]\n",
        "\n",
        "# Advanced Concepts\n",
        "\n",
        "# Multiple Inheritance\n",
        "**Multiple inheritance** occurs when a class inherits from more than one base class, combining features from all parents.[1]\n",
        "\n",
        "# Purpose of `__str__` and `__repr__` in Python\n",
        "- `__str__`: Returns a readable string representation of the object.\n",
        "- `__repr__`: Returns an unambiguous string for debugging.[1]\n",
        "\n",
        "# Significance of `super()` Function\n",
        "`super()` allows access to methods/attributes of a parent class, especially in overriding scenarios, ensuring correct method resolution order[1].\n",
        "\n",
        "# Significance of `__del__` Method\n",
        "`__del__` is a destructor method called when an object is about to be destroyed, used for clean-up actions[1].\n",
        "\n",
        "# Difference Between @staticmethod and @classmethod\n",
        "\n",
        "|                        | @staticmethod              | @classmethod          |\n",
        "|------------------------|---------------------------|----------------------|\n",
        "| First Parameter        | None                      | cls (class)          |\n",
        "| Access Class State     | No                        | Yes                  |[1]\n",
        "\n",
        "# Polymorphism with Inheritance in Python\n",
        "Subclasses can override parent methods, and shared interfaces allow different subclass implementations to be called interchangeably.[1]\n",
        "\n",
        "# Method Chaining in Python OOP\n",
        "**Method chaining** allows calling multiple methods in a single statement by returning `self` from each method.[1]\n",
        "\n",
        "### Purpose of `__call__` Method in Python\n",
        "`__call__` allows an instance of a class to be called like a regular function, enabling advanced interface customization[1].\n",
        "\n"
      ],
      "metadata": {
        "id": "wCQhbTCBDCXT"
      }
    },
    {
      "cell_type": "markdown",
      "source": [
        "Practical Questions"
      ],
      "metadata": {
        "id": "OB8yqgb1EuJB"
      }
    },
    {
      "cell_type": "markdown",
      "source": [
        "1. Animal and Dog Classes (Inheritance & Overriding)"
      ],
      "metadata": {
        "id": "WD3Q0ys7F48Y"
      }
    },
    {
      "cell_type": "code",
      "source": [
        "class Animal:\n",
        "    def speak(self):\n",
        "        print(\"This is a generic animal sound.\")\n",
        "\n",
        "class Dog(Animal):\n",
        "    def speak(self):\n",
        "        print(\"Bark!\")\n",
        "\n",
        "# Example\n",
        "dog = Dog()\n",
        "dog.speak()\n",
        "\n",
        "\n"
      ],
      "metadata": {
        "colab": {
          "base_uri": "https://localhost:8080/"
        },
        "id": "YNMqCU4ZGyns",
        "outputId": "06416955-d091-4aa9-9a8a-14f1fe5c610c"
      },
      "execution_count": null,
      "outputs": [
        {
          "output_type": "stream",
          "name": "stdout",
          "text": [
            "Bark!\n"
          ]
        }
      ]
    },
    {
      "cell_type": "markdown",
      "source": [
        "2. Abstract Shape Class with Circle and Rectangle"
      ],
      "metadata": {
        "id": "sklyC42tHCNb"
      }
    },
    {
      "cell_type": "code",
      "source": [
        "from abc import ABC, abstractmethod\n",
        "import math\n",
        "\n",
        "class Shape(ABC):\n",
        "    @abstractmethod\n",
        "    def area(self):\n",
        "        pass\n",
        "\n",
        "class Circle(Shape):\n",
        "    def __init__(self, radius):\n",
        "        self.radius = radius\n",
        "\n",
        "    def area(self):\n",
        "        return math.pi * self.radius ** 2\n",
        "\n",
        "class Rectangle(Shape):\n",
        "    def __init__(self, length, width):\n",
        "        self.length = length\n",
        "        self.width = width\n",
        "\n",
        "    def area(self):\n",
        "        return self.length * self.width\n",
        "\n",
        "# Example\n",
        "c = Circle(5)\n",
        "r = Rectangle(4, 6)\n",
        "print(\"Circle area:\", c.area())\n",
        "print(\"Rectangle area:\", r.area())\n"
      ],
      "metadata": {
        "colab": {
          "base_uri": "https://localhost:8080/"
        },
        "id": "24g61kJNHa5y",
        "outputId": "7d16a8df-ebc1-45e3-a705-4f5a868bb6ac"
      },
      "execution_count": null,
      "outputs": [
        {
          "output_type": "stream",
          "name": "stdout",
          "text": [
            "Circle area: 78.53981633974483\n",
            "Rectangle area: 24\n"
          ]
        }
      ]
    },
    {
      "cell_type": "markdown",
      "source": [
        "3. Multi-Level Inheritance: Vehicle, Car, ElectricCar"
      ],
      "metadata": {
        "id": "06H5lPACHmjo"
      }
    },
    {
      "cell_type": "code",
      "source": [
        "class Vehicle:\n",
        "    def __init__(self, type):\n",
        "        self.type = type\n",
        "\n",
        "class Car(Vehicle):\n",
        "    def __init__(self, type, brand):\n",
        "        super().__init__(type)\n",
        "        self.brand = brand\n",
        "\n",
        "class ElectricCar(Car):\n",
        "    def __init__(self, type, brand, battery):\n",
        "        super().__init__(type, brand)\n",
        "        self.battery = battery\n",
        "\n",
        "# Example\n",
        "tesla = ElectricCar(\"Four Wheeler\", \"Tesla\", \"100 kWh\")\n",
        "print(tesla.type, tesla.brand, tesla.battery)\n"
      ],
      "metadata": {
        "colab": {
          "base_uri": "https://localhost:8080/"
        },
        "id": "eOsFqSYTHvOU",
        "outputId": "83b1c565-009a-4758-f69d-248081263b06"
      },
      "execution_count": null,
      "outputs": [
        {
          "output_type": "stream",
          "name": "stdout",
          "text": [
            "Four Wheeler Tesla 100 kWh\n"
          ]
        }
      ]
    },
    {
      "cell_type": "markdown",
      "source": [
        "4. Polymorphism: Bird, Sparrow, Penguin"
      ],
      "metadata": {
        "id": "oDANh3qFH054"
      }
    },
    {
      "cell_type": "code",
      "source": [
        "class Bird:\n",
        "    def fly(self):\n",
        "        print(\"Some birds can fly.\")\n",
        "\n",
        "class Sparrow(Bird):\n",
        "    def fly(self):\n",
        "        print(\"Sparrow flies high.\")\n",
        "\n",
        "class Penguin(Bird):\n",
        "    def fly(self):\n",
        "        print(\"Penguins cannot fly.\")\n",
        "\n",
        "# Example\n",
        "birds = [Sparrow(), Penguin()]\n",
        "for b in birds:\n",
        "    b.fly()\n"
      ],
      "metadata": {
        "colab": {
          "base_uri": "https://localhost:8080/"
        },
        "id": "IEq11RnHH41z",
        "outputId": "59ac7082-cdca-4f42-dceb-3b6559a3bf61"
      },
      "execution_count": null,
      "outputs": [
        {
          "output_type": "stream",
          "name": "stdout",
          "text": [
            "Sparrow flies high.\n",
            "Penguins cannot fly.\n"
          ]
        }
      ]
    },
    {
      "cell_type": "markdown",
      "source": [
        "5. Encapsulation: BankAccount"
      ],
      "metadata": {
        "id": "5WHkpfeAH_zW"
      }
    },
    {
      "cell_type": "code",
      "source": [
        "class BankAccount:\n",
        "    def __init__(self, balance=0):\n",
        "        self.__balance = balance\n",
        "\n",
        "    def deposit(self, amount):\n",
        "        self.__balance += amount\n",
        "\n",
        "    def withdraw(self, amount):\n",
        "        if amount <= self.__balance:\n",
        "            self.__balance -= amount\n",
        "        else:\n",
        "            print(\"Insufficient balance\")\n",
        "\n",
        "    def get_balance(self):\n",
        "        return self.__balance\n",
        "\n",
        "# Example\n",
        "acc = BankAccount(5000)\n",
        "acc.deposit(2000)\n",
        "acc.withdraw(1000)\n",
        "print(\"Balance:\", acc.get_balance())\n"
      ],
      "metadata": {
        "colab": {
          "base_uri": "https://localhost:8080/"
        },
        "id": "ADGAMscvIFVg",
        "outputId": "5d098ba5-dd07-4423-f4b5-98cc67ad77a5"
      },
      "execution_count": null,
      "outputs": [
        {
          "output_type": "stream",
          "name": "stdout",
          "text": [
            "Balance: 6000\n"
          ]
        }
      ]
    },
    {
      "cell_type": "markdown",
      "source": [
        "6. Runtime Polymorphism: Instrument, Guitar, Piano\n",
        "python"
      ],
      "metadata": {
        "id": "XNSUv-AZIQbJ"
      }
    },
    {
      "cell_type": "code",
      "source": [
        "class Instrument:\n",
        "    def play(self):\n",
        "        print(\"Instrument playing...\")\n",
        "\n",
        "class Guitar(Instrument):\n",
        "    def play(self):\n",
        "        print(\"Strumming the guitar.\")\n",
        "\n",
        "class Piano(Instrument):\n",
        "    def play(self):\n",
        "        print(\"Playing the piano.\")\n",
        "\n",
        "# Example\n",
        "instruments = [Guitar(), Piano()]\n",
        "for i in instruments:\n",
        "    i.play()\n"
      ],
      "metadata": {
        "colab": {
          "base_uri": "https://localhost:8080/"
        },
        "id": "Y597pnUZIRVA",
        "outputId": "ab5aec2a-07ef-4bd5-f85a-355eceabe0f4"
      },
      "execution_count": null,
      "outputs": [
        {
          "output_type": "stream",
          "name": "stdout",
          "text": [
            "Strumming the guitar.\n",
            "Playing the piano.\n"
          ]
        }
      ]
    },
    {
      "cell_type": "markdown",
      "source": [
        "Q7. Class method & Static method"
      ],
      "metadata": {
        "id": "JKWPMB6OIU68"
      }
    },
    {
      "cell_type": "code",
      "source": [
        "class MathOperations:\n",
        "    @classmethod\n",
        "    def add_numbers(cls, a, b):\n",
        "        return a + b\n",
        "\n",
        "    @staticmethod\n",
        "    def subtract_numbers(a, b):\n",
        "        return a - b\n",
        "\n",
        "# Example\n",
        "print(MathOperations.add_numbers(10, 5))\n",
        "print(MathOperations.subtract_numbers(10, 5))\n"
      ],
      "metadata": {
        "colab": {
          "base_uri": "https://localhost:8080/"
        },
        "id": "hPFnOyfmIZae",
        "outputId": "f696a980-d547-4e9d-87bc-d999bb2a2b7e"
      },
      "execution_count": null,
      "outputs": [
        {
          "output_type": "stream",
          "name": "stdout",
          "text": [
            "15\n",
            "5\n"
          ]
        }
      ]
    },
    {
      "cell_type": "markdown",
      "source": [
        "Q8. Class Person with class method counting objects"
      ],
      "metadata": {
        "id": "ni3TvylJIeKO"
      }
    },
    {
      "cell_type": "code",
      "source": [
        "class Person:\n",
        "    count = 0\n",
        "\n",
        "    def __init__(self, name):\n",
        "        self.name = name\n",
        "        Person.count += 1\n",
        "\n",
        "    @classmethod\n",
        "    def total_persons(cls):\n",
        "        return cls.count\n",
        "\n",
        "# Example\n",
        "p1 = Person(\"Virendra\")\n",
        "p2 = Person(\"Raj\")\n",
        "print(\"Total persons:\", Person.total_persons())\n"
      ],
      "metadata": {
        "colab": {
          "base_uri": "https://localhost:8080/"
        },
        "id": "m-3T6GCOIjeL",
        "outputId": "a2a99b92-7c28-4765-a924-70597174f0bb"
      },
      "execution_count": null,
      "outputs": [
        {
          "output_type": "stream",
          "name": "stdout",
          "text": [
            "Total persons: 2\n"
          ]
        }
      ]
    },
    {
      "cell_type": "markdown",
      "source": [
        "Q9. Class Fraction with __str__"
      ],
      "metadata": {
        "id": "P4D8kWXlIn5l"
      }
    },
    {
      "cell_type": "code",
      "source": [
        "class Fraction:\n",
        "    def __init__(self, numerator, denominator):\n",
        "        self.numerator = numerator\n",
        "        self.denominator = denominator\n",
        "\n",
        "    def __str__(self):\n",
        "        return f\"{self.numerator}/{self.denominator}\"\n",
        "\n",
        "# Example\n",
        "f = Fraction(3, 4)\n",
        "print(f)\n"
      ],
      "metadata": {
        "colab": {
          "base_uri": "https://localhost:8080/"
        },
        "id": "0HrYCF5aIrku",
        "outputId": "546569fa-bbc5-4b7d-c0cd-173f080f8f3c"
      },
      "execution_count": null,
      "outputs": [
        {
          "output_type": "stream",
          "name": "stdout",
          "text": [
            "3/4\n"
          ]
        }
      ]
    },
    {
      "cell_type": "markdown",
      "source": [
        "Q10. Operator overloading: Vector addition"
      ],
      "metadata": {
        "id": "Cbc-rwR3IvYa"
      }
    },
    {
      "cell_type": "code",
      "source": [
        "class Vector:\n",
        "    def __init__(self, x, y):\n",
        "        self.x = x\n",
        "        self.y = y\n",
        "\n",
        "    def __add__(self, other):\n",
        "        return Vector(self.x + other.x, self.y + other.y)\n",
        "\n",
        "    def __str__(self):\n",
        "        return f\"({self.x}, {self.y})\"\n",
        "\n",
        "# Example\n",
        "v1 = Vector(2, 3)\n",
        "v2 = Vector(4, 5)\n",
        "print(v1 + v2)\n"
      ],
      "metadata": {
        "colab": {
          "base_uri": "https://localhost:8080/"
        },
        "id": "5kpC1gGHI0qO",
        "outputId": "172822be-b0b7-4cc2-df38-a7f3e821c97a"
      },
      "execution_count": null,
      "outputs": [
        {
          "output_type": "stream",
          "name": "stdout",
          "text": [
            "(6, 8)\n"
          ]
        }
      ]
    },
    {
      "cell_type": "markdown",
      "source": [
        "Q11. Person greet()"
      ],
      "metadata": {
        "id": "pFsFyExMI30W"
      }
    },
    {
      "cell_type": "code",
      "source": [
        "class Person:\n",
        "    def __init__(self, name, age):\n",
        "        self.name = name\n",
        "        self.age = age\n",
        "\n",
        "    def greet(self):\n",
        "        print(f\"Hello, my name is {self.name} and I am {self.age} years old.\")\n",
        "\n",
        "# Example\n",
        "p = Person(\"Virendra\", 28)\n",
        "p.greet()\n"
      ],
      "metadata": {
        "colab": {
          "base_uri": "https://localhost:8080/"
        },
        "id": "vrRxmCbhI63W",
        "outputId": "e6a77975-bf7e-409a-bccf-4f03aad3753c"
      },
      "execution_count": null,
      "outputs": [
        {
          "output_type": "stream",
          "name": "stdout",
          "text": [
            "Hello, my name is Virendra and I am 28 years old.\n"
          ]
        }
      ]
    },
    {
      "cell_type": "markdown",
      "source": [
        "Q12. Student average_grade()"
      ],
      "metadata": {
        "id": "OqkMqlKhJF1u"
      }
    },
    {
      "cell_type": "code",
      "source": [
        "class Student:\n",
        "    def __init__(self, name, grades):\n",
        "        self.name = name\n",
        "        self.grades = grades\n",
        "\n",
        "    def average_grade(self):\n",
        "        return sum(self.grades) / len(self.grades)\n",
        "\n",
        "# Example\n",
        "s = Student(\"Amit\", [80, 90, 70])\n",
        "print(\"Average:\", s.average_grade())\n"
      ],
      "metadata": {
        "colab": {
          "base_uri": "https://localhost:8080/"
        },
        "id": "MHZqUIXMJG3X",
        "outputId": "6a865e76-ad32-4b0b-f810-ced53dd2bd89"
      },
      "execution_count": null,
      "outputs": [
        {
          "output_type": "stream",
          "name": "stdout",
          "text": [
            "Average: 80.0\n"
          ]
        }
      ]
    },
    {
      "cell_type": "markdown",
      "source": [
        "Q13. Rectangle area()"
      ],
      "metadata": {
        "id": "ii8W1bihJKLB"
      }
    },
    {
      "cell_type": "code",
      "source": [
        "class Rectangle:\n",
        "    def set_dimensions(self, length, width):\n",
        "        self.length = length\n",
        "        self.width = width\n",
        "\n",
        "    def area(self):\n",
        "        return self.length * self.width\n",
        "\n",
        "# Example\n",
        "r = Rectangle()\n",
        "r.set_dimensions(5, 4)\n",
        "print(\"Area:\", r.area())\n"
      ],
      "metadata": {
        "colab": {
          "base_uri": "https://localhost:8080/"
        },
        "id": "3SLIzjnFJNrc",
        "outputId": "f50efd0b-9876-420a-a4f1-e02fc02d833e"
      },
      "execution_count": null,
      "outputs": [
        {
          "output_type": "stream",
          "name": "stdout",
          "text": [
            "Area: 20\n"
          ]
        }
      ]
    },
    {
      "cell_type": "markdown",
      "source": [
        "Q14. Employee & Manager"
      ],
      "metadata": {
        "id": "OodLtfqpJRve"
      }
    },
    {
      "cell_type": "code",
      "source": [
        "class Employee:\n",
        "    def __init__(self, hours, rate):\n",
        "        self.hours = hours\n",
        "        self.rate = rate\n",
        "\n",
        "    def calculate_salary(self):\n",
        "        return self.hours * self.rate\n",
        "\n",
        "class Manager(Employee):\n",
        "    def __init__(self, hours, rate, bonus):\n",
        "        super().__init__(hours, rate)\n",
        "        self.bonus = bonus\n",
        "\n",
        "    def calculate_salary(self):\n",
        "        return super().calculate_salary() + self.bonus\n",
        "\n",
        "# Example\n",
        "m = Manager(40, 200, 5000)\n",
        "print(\"Manager Salary:\", m.calculate_salary())\n"
      ],
      "metadata": {
        "colab": {
          "base_uri": "https://localhost:8080/"
        },
        "id": "6HC7k-50JVkX",
        "outputId": "fd81af4b-d8e5-4d65-a5ae-7bc2644d6068"
      },
      "execution_count": null,
      "outputs": [
        {
          "output_type": "stream",
          "name": "stdout",
          "text": [
            "Manager Salary: 13000\n"
          ]
        }
      ]
    },
    {
      "cell_type": "markdown",
      "source": [
        "Q15. Product total_price()"
      ],
      "metadata": {
        "id": "uD0lm8G-JZiR"
      }
    },
    {
      "cell_type": "code",
      "source": [
        "class Product:\n",
        "    def __init__(self, name, price, quantity):\n",
        "        self.name = name\n",
        "        self.price = price\n",
        "        self.quantity = quantity\n",
        "\n",
        "    def total_price(self):\n",
        "        return self.price * self.quantity\n",
        "\n",
        "# Example\n",
        "p1 = Product(\"Mobile\", 15000, 2)\n",
        "print(\"Total Price:\", p1.total_price())\n"
      ],
      "metadata": {
        "colab": {
          "base_uri": "https://localhost:8080/"
        },
        "id": "r7HW6p7lJdBz",
        "outputId": "89276cb9-936a-4a9d-f93e-008674d657d7"
      },
      "execution_count": null,
      "outputs": [
        {
          "output_type": "stream",
          "name": "stdout",
          "text": [
            "Total Price: 30000\n"
          ]
        }
      ]
    },
    {
      "cell_type": "markdown",
      "source": [
        "Q16. Animal abstract method sound() → Cow, Sheep"
      ],
      "metadata": {
        "id": "ZFVK2aGwJgLG"
      }
    },
    {
      "cell_type": "code",
      "source": [
        "from abc import ABC, abstractmethod\n",
        "\n",
        "class Animal(ABC):\n",
        "    @abstractmethod\n",
        "    def sound(self):\n",
        "        pass\n",
        "\n",
        "class Cow(Animal):\n",
        "    def sound(self):\n",
        "        return \"Moo\"\n",
        "\n",
        "class Sheep(Animal):\n",
        "    def sound(self):\n",
        "        return \"Baa\"\n",
        "\n",
        "# Example\n",
        "print(Cow().sound())\n",
        "print(Sheep().sound())\n"
      ],
      "metadata": {
        "colab": {
          "base_uri": "https://localhost:8080/"
        },
        "id": "wXkDU94eJjyX",
        "outputId": "a01b9aee-637e-4a83-effe-52e0325f67be"
      },
      "execution_count": null,
      "outputs": [
        {
          "output_type": "stream",
          "name": "stdout",
          "text": [
            "Moo\n",
            "Baa\n"
          ]
        }
      ]
    },
    {
      "cell_type": "markdown",
      "source": [
        "Q17. Book get_book_info()"
      ],
      "metadata": {
        "id": "Wf1Bl3ikJnOp"
      }
    },
    {
      "cell_type": "code",
      "source": [
        "class Book:\n",
        "    def __init__(self, title, author, year_published):\n",
        "        self.title = title\n",
        "        self.author = author\n",
        "        self.year_published = year_published\n",
        "\n",
        "    def get_book_info(self):\n",
        "        return f\"'{self.title}' by {self.author}, published in {self.year_published}\"\n",
        "\n",
        "# Example\n",
        "b1 = Book(\"Python Basics\", \"Virendra Sonekar\", 2025)\n",
        "print(b1.get_book_info())\n"
      ],
      "metadata": {
        "colab": {
          "base_uri": "https://localhost:8080/"
        },
        "id": "r_aiQrwFJqvU",
        "outputId": "5f86f507-4f06-40cd-ad72-24942f33cb59"
      },
      "execution_count": null,
      "outputs": [
        {
          "output_type": "stream",
          "name": "stdout",
          "text": [
            "'Python Basics' by Virendra Sonekar, published in 2025\n"
          ]
        }
      ]
    },
    {
      "cell_type": "markdown",
      "source": [
        "Q18. House → Mansion"
      ],
      "metadata": {
        "id": "N3EpgWTwJvOf"
      }
    },
    {
      "cell_type": "code",
      "source": [
        "class House:\n",
        "    def __init__(self, address, price):\n",
        "        self.address = address\n",
        "        self.price = price\n",
        "\n",
        "class Mansion(House):\n",
        "    def __init__(self, address, price, number_of_rooms):\n",
        "        super().__init__(address, price)\n",
        "        self.number_of_rooms = number_of_rooms\n",
        "\n",
        "    def mansion_info(self):\n",
        "        return f\"Address: {self.address}, Price: {self.price}, Rooms: {self.number_of_rooms}\"\n",
        "\n",
        "# Example\n",
        "m1 = Mansion(\"Bhopal, MP\", 7500000, 12)\n",
        "print(m1.mansion_info())\n"
      ],
      "metadata": {
        "colab": {
          "base_uri": "https://localhost:8080/"
        },
        "id": "T-uQ2swmJyr6",
        "outputId": "c7c3942f-636f-479b-cf3b-471099ba9ef3"
      },
      "execution_count": null,
      "outputs": [
        {
          "output_type": "stream",
          "name": "stdout",
          "text": [
            "Address: Bhopal, MP, Price: 7500000, Rooms: 12\n"
          ]
        }
      ]
    }
  ]
}