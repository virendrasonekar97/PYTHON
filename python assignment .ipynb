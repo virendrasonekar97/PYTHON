{
  "nbformat": 4,
  "nbformat_minor": 0,
  "metadata": {
    "colab": {
      "provenance": []
    },
    "kernelspec": {
      "name": "python3",
      "display_name": "Python 3"
    },
    "language_info": {
      "name": "python"
    }
  },
  "cells": [
    {
      "cell_type": "markdown",
      "source": [
        "**Assignment 1: Basic of Python**"
      ],
      "metadata": {
        "id": "O-DzukNcxw_b"
      }
    },
    {
      "cell_type": "markdown",
      "source": [
        "1.What is Python, and why is it popular?\n",
        "  >Python is a high-level, interpreted, object-oriented programming language known for its readability and ease of use. It was created by Guido van Rossum and first released in 1991.\n",
        "\n",
        "  >Python is popular for:\n",
        "    >>1. Easy to read and understand :Python has clean, English-like syntax    that makes it easy to write and read code.\n",
        "    >>2. Interpreted Language :Python code runs line-by-line, which simplifies debugging and testing.\n",
        "    >>3. Object-Oriented Programming Language: Supports OOP principles like classes and inheritance for modular, reusable code.\n",
        "    >>4. Free and open Source : Python is freely available for use, and its source code can be modified and shared.\n",
        "    >>5. Versatile and Extensible :Can be used in web, AI, data science, games, and extended with C/C++ code.\n",
        "    >>6. Multi-platform : Works across all major OS like Windows, macOS, and Linux without code changes.\n",
        "    >>7. Hundreds of Libraries and Frameworks : Offers powerful libraries like NumPy, Django, TensorFlow for faster development.\n",
        "    >>8. Huge and Active Community: Millions of users contribute tutorials, tools, and support for learners and developers.\n",
        "\n"
      ],
      "metadata": {
        "id": "PGeY0z3Xx4dP"
      }
    },
    {
      "cell_type": "markdown",
      "source": [
        "2.What is an interpreter in Python ?\n",
        "  >Interpreters are the computer program that will convert the source code or an high level language into intermediate code (machine level language). It is also called translator in programming terminology. Interpreters executes each line of statements slowly. This process is called Interpretation.\n",
        "\n",
        "  >An interpreter in Python is a program that reads and executes code line-by-line rather than compiling the entire code at once.\n",
        "\n",
        "  >**Working of Interpreter**\n",
        "\n",
        "  >>source code ---> interpreter--->Executable Code----> next line -----> sourcecode.....\n",
        "  \n",
        "   >>You write Python code (.py file).\n",
        "\n",
        "   >>The Python interpreter reads one line at a time.\n",
        "\n",
        "   >>It translates that line into machine code and executes it immediately.\n",
        "\n",
        "      \n",
        "\n",
        "\n",
        "\n",
        "\n"
      ],
      "metadata": {
        "id": "f4dtkSVDzccx"
      }
    },
    {
      "cell_type": "markdown",
      "source": [
        "3.What are pre-defined keywords in Python ?\n",
        "  > Pre-defined keywords in Python are reserved words that have special meaning in the language. You cannot use them as variable names, function names, or identifiers.\n",
        "\n",
        "  > Key Points:\n",
        "    >1.   Fixed meaning : \tKeywords perform specific roles in the syntax e.g., if, while, def.\n",
        "    >2.   Case-sensitive :True is valid, but true is not.\n",
        "    >3.   Cannot be redefined: You can’t use them for custom variable or function names.\n",
        "\n",
        "  >Examples : if, else, elif, while, for, break, continue, pass,\tdef, return, lambda, class\n",
        "\n",
        "\n",
        "\n",
        "\n",
        "\n",
        "\n"
      ],
      "metadata": {
        "id": "_Xv8I290zrqJ"
      }
    },
    {
      "cell_type": "markdown",
      "source": [
        "4.Can keywords be used as variable names ?\n",
        "  >No, you cannot use keywords as variable names in Python\n",
        "\n",
        "  >Reason:\n",
        "    >Python keywords are reserved words that have special meanings in the language syntax. Using them as variable names would confuse the interpreter."
      ],
      "metadata": {
        "id": "BkffhXLv4ZWp"
      }
    },
    {
      "cell_type": "markdown",
      "source": [
        "5. What is mutability in Python ?\n",
        "   >Mutability in Python refers to whether an object’s value can be changed after it is created.\n",
        "   >Example : list, dict, set"
      ],
      "metadata": {
        "id": "Qend_fRW5APG"
      }
    },
    {
      "cell_type": "code",
      "execution_count": null,
      "metadata": {
        "colab": {
          "base_uri": "https://localhost:8080/"
        },
        "id": "izrH3BN-vD41",
        "outputId": "c6702d7e-4464-43d0-f990-1779894ee339"
      },
      "outputs": [
        {
          "output_type": "stream",
          "name": "stdout",
          "text": [
            "['apple', 'banana', 'orange']\n"
          ]
        }
      ],
      "source": [
        "#Example of Mutable objects\n",
        "fruits = ['apple', 'banana']\n",
        "fruits.append('orange')\n",
        "print(fruits)"
      ]
    },
    {
      "cell_type": "markdown",
      "source": [
        "6. Why are lists mutable, but tuples are immutable ?\n",
        "  >Lists Are Mutable:\n",
        "    >1. Designed for dynamic data:  Lists are made to store data that changes over time.\n",
        "\n",
        "    >2. Resizable in memory:  Python internally allocates flexible memory blocks for lists.\n",
        "\n",
        "    >3. Supports item assignment:  You can modify, add, or remove elements after creation.\n",
        "\n",
        "    >4. Used in frequent updates: Ideal for tasks like sorting, appending, or modifying data\n",
        "\n",
        "  >Tuples are immutable:\n",
        "    > 1. Fixed-size data structure: Once created, elements in a tuple cannot be changed.\n",
        "    > 2. Memory optimization: Tuples take up less memory and are slightly faster than lists.\n",
        "    > 3. Hashable: Because they don’t change, tuples can be used as dictionary keys or set elements.\n",
        "    > 4. Ensures data safety: Immutability prevents accidental changes to critical data.\n"
      ],
      "metadata": {
        "id": "VybJpiQL7QDu"
      }
    },
    {
      "cell_type": "markdown",
      "source": [
        "7. What is the difference between “==” and “is” operators in Python ?\n",
        "  >\"==\" Operator (Equality) (Comparsion Operator)\n",
        "    1. Checks if values are equal\n",
        "    2. Compares the contents of two objects\n",
        "    3. Returns True if the values look the same\n",
        "\n",
        "  >\"is\" Operator (Identity Operator)\n",
        "\n",
        "    >>1.Checks if two variables point to the same object in memory\n",
        "    2.Compares the identity (memory address), not the value\n",
        "    3.Returns True if both refer to the exact same object\n",
        "\n",
        "\n"
      ],
      "metadata": {
        "id": "6sWfZaue9M4i"
      }
    },
    {
      "cell_type": "code",
      "source": [
        "# == Operator use\n",
        "a = [1, 2]\n",
        "b = [1, 2]\n",
        "print(a == b) # same values\n",
        "\n",
        "# is oprator use\n",
        "a = [1,2]\n",
        "b = [1,2]\n",
        "print(a is b) # different memory allocation\n",
        "\n"
      ],
      "metadata": {
        "colab": {
          "base_uri": "https://localhost:8080/"
        },
        "id": "DIu5eC_l612g",
        "outputId": "b575a51d-d4c9-4abd-e502-4bf0ef6e94f9"
      },
      "execution_count": null,
      "outputs": [
        {
          "output_type": "stream",
          "name": "stdout",
          "text": [
            "True\n",
            "False\n"
          ]
        }
      ]
    },
    {
      "cell_type": "markdown",
      "source": [
        "8.What are logical operators in Python ?\n",
        ">Logical operators are used to combine multiple conditions and return a boolean result (True or False).\n",
        "\n",
        ">>1.and:\n",
        "This operator returns True only if both conditions are True.\n",
        "\n",
        ">>2.or:\n",
        "This operator returns True if at least one of the conditions is True.\n",
        "\n",
        ">>3.not:\n",
        "This operator inverts the result. If the condition is True, it returns False, and vice versa."
      ],
      "metadata": {
        "id": "fh80GBt-xrCP"
      }
    },
    {
      "cell_type": "code",
      "source": [
        "# Eample of and , or and not logical operator\n",
        "x=5\n",
        "y=10\n",
        "print(x>3 and y<20)\n",
        "print(x>3 or y<10)\n",
        "print(not(x==y))"
      ],
      "metadata": {
        "colab": {
          "base_uri": "https://localhost:8080/"
        },
        "id": "GqfU-sn0DSB8",
        "outputId": "f2f40a21-8b2a-4531-8c59-b3d2172a685e"
      },
      "execution_count": null,
      "outputs": [
        {
          "output_type": "stream",
          "name": "stdout",
          "text": [
            "True\n",
            "True\n",
            "True\n"
          ]
        }
      ]
    },
    {
      "cell_type": "markdown",
      "source": [
        "9.What is type casting in Python ?\n",
        ">Type casting in Python means converting one data type into another manually using built-in functions.\n",
        "\n",
        ">It’s useful when you want to perform operations between different types, like combining a number and a string, or ensuring the right type in calculations.\n",
        "\n",
        "> Type of typecasting\n",
        ">>Implicit Type Casting (Automatic):\n",
        "\n",
        ">>>Python automatically converts one data type to another when it's safe to do so.\n",
        "\n",
        ">>>Happens without user intervention\n",
        "\n",
        ">>>Usually from lower to higher data types (e.g., int → float)\n",
        "\n",
        ">> Explicit Type Casting\n",
        "\n",
        ">>>You manually convert one type to another using Python’s built-in functions.\n",
        "\n",
        ">>>Common Functions:\n",
        "int(), float(), str(), bool(), list(), tuple(), set()\n"
      ],
      "metadata": {
        "id": "h6mNZoFf_9tO"
      }
    },
    {
      "cell_type": "code",
      "source": [
        "#Example of Type Casting\n",
        "#Implicit\n",
        "a = 5\n",
        "b = 2.5\n",
        "result = a + b\n",
        "print(result)\n",
        "\n",
        "#Explict\n",
        "s=\"hello\"\n",
        "lst=list(s)\n",
        "print(lst)"
      ],
      "metadata": {
        "colab": {
          "base_uri": "https://localhost:8080/"
        },
        "id": "L7rR1oS3GLXh",
        "outputId": "b457d46b-cedf-4fcf-95ac-8fb889f08644"
      },
      "execution_count": null,
      "outputs": [
        {
          "output_type": "stream",
          "name": "stdout",
          "text": [
            "7.5\n",
            "['h', 'e', 'l', 'l', 'o']\n"
          ]
        }
      ]
    },
    {
      "cell_type": "markdown",
      "source": [
        "10.What is the difference between implicit and explicit type casting?\n",
        ">Implicit Type Casting\n",
        ">>Done automatically by Python\n",
        "\n",
        ">>Happens when combining different data types\n",
        "\n",
        ">>Converts from lower to higher precision to avoid data loss\n",
        "\n",
        ">>No need for user involvement.\n",
        "\n",
        ">Explicit Type Casting\n",
        ">>Done manually by the programmer\n",
        "\n",
        ">>Uses built-in functions like int(), float(), str()\n",
        "\n",
        ">>Needed when Python can’t automatically convert, or you want full control"
      ],
      "metadata": {
        "id": "MHrYPVT9ACzh"
      }
    },
    {
      "cell_type": "markdown",
      "source": [
        "11.What is the purpose of conditional statements in Python ?\n",
        ">Conditional statements in Python are used to make decisions in a program. They allow the program to execute certain blocks of code only if specific conditions are met.\n",
        "\n",
        ">Purpose:\n",
        ">>Control the flow of execution based on conditions.\n",
        "\n",
        ">>Help programs make choices (like “if this happens, do that”).\n",
        "\n",
        ">>Enable dynamic behavior based on user input, data, or state.\n",
        "\n",
        ">>Avoid unnecessary execution of code blocks.\n",
        "\n",
        ">>Make programs smarter and interactive"
      ],
      "metadata": {
        "id": "OsLN2pYGAMnb"
      }
    },
    {
      "cell_type": "markdown",
      "source": [
        "12.How does the elif statement work ?\n",
        ">The elif (short for else if) statement is used to check multiple conditions in a sequence after an initial if statement. It only executes its block if the previous conditions were False and its own condition is True.\n",
        "\n",
        ">Working :\n",
        "\n",
        ">>Python checks the \"if\" condition.\n",
        "\n",
        ">>If \"if\" is False, it checks the elif condition.\n",
        "\n",
        ">>If \"elif\" is True, it runs the elif block.\n",
        "\n",
        ">>If all conditions are False, it runs the \"else\" block (if provided)."
      ],
      "metadata": {
        "id": "JtQkGoTQAQ5b"
      }
    },
    {
      "cell_type": "code",
      "source": [
        "#example of elif\n",
        "age=int(input(\"Enter the age\"))\n",
        "if age<18:\n",
        "  print(\"Children\")\n",
        "elif age>=18 and age<60:\n",
        "  print(\"Adult\")\n",
        "elif age>60:\n",
        "  print(\"Senior Citizen\")\n",
        "else:\n",
        "  print(\"Invalid age\")"
      ],
      "metadata": {
        "colab": {
          "base_uri": "https://localhost:8080/"
        },
        "id": "5q2yG0BPJH1j",
        "outputId": "5c1957af-d3d1-409b-8816-436f747338f6"
      },
      "execution_count": null,
      "outputs": [
        {
          "output_type": "stream",
          "name": "stdout",
          "text": [
            "Enter the age45\n",
            "Adult\n"
          ]
        }
      ]
    },
    {
      "cell_type": "markdown",
      "source": [
        "13.What is the difference between for and while loops?\n",
        ">Python provides two main types of loops: for and while. Both are used to repeat code, but they differ in how and when they stop.\n",
        "\n",
        "> \"for\" Loop\n",
        ">>Used when you know beforehand how many times you want to iterate.\n",
        "\n",
        ">>It loops over a sequence like a list, string, tuple, or range.\n",
        "\n",
        ">>Automatically stops when the sequence ends.\n",
        "\n",
        ">\"While\" Loop\n",
        "\n",
        ">>Used when you don't know in advance how many times to loop.\n",
        "\n",
        ">>Keeps running as long as the condition is True.\n",
        "\n",
        ">>You must manually update variables to eventually stop the loop."
      ],
      "metadata": {
        "id": "CDg3UbBGAWrb"
      }
    },
    {
      "cell_type": "code",
      "source": [
        "print(\"Example of for loop\")\n",
        "for i in range(5):\n",
        "  print(i)\n",
        "print()\n",
        "print(\"Example of while loop\")\n",
        "count = 0\n",
        "while count < 5:\n",
        "    print(count)\n",
        "    count += 1"
      ],
      "metadata": {
        "colab": {
          "base_uri": "https://localhost:8080/"
        },
        "id": "0wPiu4H0KP01",
        "outputId": "12e0e3d7-5726-4acb-ad50-5538a13735e4"
      },
      "execution_count": null,
      "outputs": [
        {
          "output_type": "stream",
          "name": "stdout",
          "text": [
            "Example of for loop\n",
            "0\n",
            "1\n",
            "2\n",
            "3\n",
            "4\n",
            "\n",
            "Example of while loop\n",
            "0\n",
            "1\n",
            "2\n",
            "3\n",
            "4\n"
          ]
        }
      ]
    },
    {
      "cell_type": "markdown",
      "source": [
        "14.Describe a scenario where a while loop is more suitable than a for loop.\n",
        ">A while loop is more suitable when you don't know in advance how many times the loop will run — i.e., when the loop depends on a condition that changes during execution.\n",
        ">Example Scenario: User Login System\n",
        "\n",
        "\n",
        "```\n",
        "correct_password = \"hello123\"\n",
        "user_input = \"\"\n",
        "\n",
        "while user_input != correct_password:\n",
        "    user_input = input(\"Enter password: \")\n",
        "\n",
        "print(\"Access granted!\")\n",
        "\n",
        "```\n",
        ">Reason While suitable for this senario\n",
        ">>You don’t know how many attempts the user will need.\n",
        "\n",
        ">>The loop continues as long as the condition is not met.\n",
        "\n",
        ">>Using a for loop would force you to limit attempts artificially.\n",
        "\n"
      ],
      "metadata": {
        "id": "yhVcRypkAaUu"
      }
    },
    {
      "cell_type": "markdown",
      "source": [
        "**Practical Questions**"
      ],
      "metadata": {
        "id": "nhmSX_uaAUBU"
      }
    },
    {
      "cell_type": "code",
      "source": [
        "#1.  Write a Python program to print \"Hello, World!\"\n",
        "\n",
        "print(\"Hello, World!\")"
      ],
      "metadata": {
        "id": "F1CgI6AH94nD",
        "colab": {
          "base_uri": "https://localhost:8080/"
        },
        "outputId": "44a01e26-378b-4859-a085-98248cdd401d"
      },
      "execution_count": null,
      "outputs": [
        {
          "output_type": "stream",
          "name": "stdout",
          "text": [
            "Hello, World!\n"
          ]
        }
      ]
    },
    {
      "cell_type": "code",
      "source": [
        "#2 Write a Python program that displays your name and age\n",
        "name=\"Sakshi\"\n",
        "age=21\n",
        "print(f\"My name is {name} and age is {age}\")\n"
      ],
      "metadata": {
        "colab": {
          "base_uri": "https://localhost:8080/"
        },
        "id": "iWa_ZtJBScYc",
        "outputId": "c5a241f9-aa4d-4417-f474-73ffc69768fa"
      },
      "execution_count": null,
      "outputs": [
        {
          "output_type": "stream",
          "name": "stdout",
          "text": [
            "My name is Sakshi and age is 21\n"
          ]
        }
      ]
    },
    {
      "cell_type": "code",
      "source": [
        "#3.  Write code to print all the pre-defined keywords in Python using the keyword library\n",
        "import keyword\n",
        "print(keyword.kwlist)"
      ],
      "metadata": {
        "colab": {
          "base_uri": "https://localhost:8080/"
        },
        "id": "af9AMxmYSsy7",
        "outputId": "11517c38-9716-419c-a488-ba3bf2dbadd2"
      },
      "execution_count": null,
      "outputs": [
        {
          "output_type": "stream",
          "name": "stdout",
          "text": [
            "['False', 'None', 'True', 'and', 'as', 'assert', 'async', 'await', 'break', 'class', 'continue', 'def', 'del', 'elif', 'else', 'except', 'finally', 'for', 'from', 'global', 'if', 'import', 'in', 'is', 'lambda', 'nonlocal', 'not', 'or', 'pass', 'raise', 'return', 'try', 'while', 'with', 'yield']\n"
          ]
        }
      ]
    },
    {
      "cell_type": "code",
      "source": [
        "#4. Write a program that checks if a given word is a Python keyword.\n",
        "import keyword\n",
        "word=input(\"Enter the word\")\n",
        "list_keywords=keyword.kwlist\n",
        "if word in list_keywords:\n",
        "  print(\"It is a Keyword\")\n",
        "else:\n",
        "  print(\"It is not a keyword\")"
      ],
      "metadata": {
        "colab": {
          "base_uri": "https://localhost:8080/"
        },
        "id": "KxpAdlpASy5w",
        "outputId": "6a7ca704-f841-4aa2-b148-1af699e3ac92"
      },
      "execution_count": null,
      "outputs": [
        {
          "output_type": "stream",
          "name": "stdout",
          "text": [
            "Enter the wordthat\n",
            "It is not a keyword\n"
          ]
        }
      ]
    },
    {
      "cell_type": "code",
      "source": [
        "#5. Create a list and tuple in Python, and demonstrate how attempting to change an element works differently for each.\n",
        "my_lst=[1,2,6,4]#list\n",
        "print(\"original list: \",my_lst)\n",
        "#changing an element in list\n",
        "my_lst[2]=5\n",
        "print(\"list after changing an element :\",my_lst)\n",
        "\n",
        "print()\n",
        "\n",
        "my_tuple=(2,4,3,6,) #tuple\n",
        "print(\"original tuple: \",my_tuple)\n",
        "#changing an element in list\n",
        "\n",
        "my_tuple[2]=5\n",
        "print(\"Tuple after changing an element :\",my_tuple)\n"
      ],
      "metadata": {
        "colab": {
          "base_uri": "https://localhost:8080/",
          "height": 263
        },
        "id": "BYlRNdRyS4V4",
        "outputId": "fed30ac8-34cc-4431-b0ec-719087e5ae1d"
      },
      "execution_count": null,
      "outputs": [
        {
          "output_type": "stream",
          "name": "stdout",
          "text": [
            "original list:  [1, 2, 6, 4]\n",
            "list after changing an element : [1, 2, 5, 4]\n",
            "\n",
            "original tuple:  (2, 4, 3, 6)\n"
          ]
        },
        {
          "output_type": "error",
          "ename": "TypeError",
          "evalue": "'tuple' object does not support item assignment",
          "traceback": [
            "\u001b[0;31m---------------------------------------------------------------------------\u001b[0m",
            "\u001b[0;31mTypeError\u001b[0m                                 Traceback (most recent call last)",
            "\u001b[0;32m/tmp/ipython-input-3367858159.py\u001b[0m in \u001b[0;36m<cell line: 0>\u001b[0;34m()\u001b[0m\n\u001b[1;32m     12\u001b[0m \u001b[0;31m#changing an element in list\u001b[0m\u001b[0;34m\u001b[0m\u001b[0;34m\u001b[0m\u001b[0m\n\u001b[1;32m     13\u001b[0m \u001b[0;34m\u001b[0m\u001b[0m\n\u001b[0;32m---> 14\u001b[0;31m \u001b[0mmy_tuple\u001b[0m\u001b[0;34m[\u001b[0m\u001b[0;36m2\u001b[0m\u001b[0;34m]\u001b[0m\u001b[0;34m=\u001b[0m\u001b[0;36m5\u001b[0m\u001b[0;34m\u001b[0m\u001b[0;34m\u001b[0m\u001b[0m\n\u001b[0m\u001b[1;32m     15\u001b[0m \u001b[0mprint\u001b[0m\u001b[0;34m(\u001b[0m\u001b[0;34m\"Tuple after changing an element :\"\u001b[0m\u001b[0;34m,\u001b[0m\u001b[0mmy_tuple\u001b[0m\u001b[0;34m)\u001b[0m\u001b[0;34m\u001b[0m\u001b[0;34m\u001b[0m\u001b[0m\n",
            "\u001b[0;31mTypeError\u001b[0m: 'tuple' object does not support item assignment"
          ]
        }
      ]
    },
    {
      "cell_type": "code",
      "source": [
        "#6. Write a function to demonstrate the behavior of mutable and immutable arguments.\n",
        "def mutable():\n",
        "  my_lst=[1,2,6,4]#list\n",
        "  print(\"original list: \",my_lst)\n",
        "  #changing an element in list\n",
        "  my_lst[2]=5\n",
        "  print(\"list after changing an element :\",my_lst)\n",
        "def immutable():\n",
        "  my_tuple=(2,4,3,6,) #tuple\n",
        "  print(\"original tuple: \",my_tuple)\n",
        "  #changing an element in list\n",
        "  try:\n",
        "    my_tuple[2]=5\n",
        "    print(\"Tuple after changing an element :\",my_tuple)\n",
        "  except:\n",
        "    print(\"Tuple is Immutable\")\n",
        "\n",
        "mutable()\n",
        "immutable()\n"
      ],
      "metadata": {
        "id": "077x8XDWS__x",
        "colab": {
          "base_uri": "https://localhost:8080/"
        },
        "outputId": "2834f2d9-d1f6-4bcd-c992-b748c8d1aae4"
      },
      "execution_count": 9,
      "outputs": [
        {
          "output_type": "stream",
          "name": "stdout",
          "text": [
            "original list:  [1, 2, 6, 4]\n",
            "list after changing an element : [1, 2, 5, 4]\n",
            "original tuple:  (2, 4, 3, 6)\n",
            "Tuple id Immutable\n"
          ]
        }
      ]
    },
    {
      "cell_type": "code",
      "source": [
        "#7. Write a program that performs basic arithmetic operations on two user-input numbers.\n",
        "num1=int(input(\"Enter the first number\"))\n",
        "num2=int(input(\"Enter the second number\"))\n",
        "print(\"Addition of two number :\",num1+num2)\n",
        "print(\"Subtraction of two number :\",num1-num2)\n",
        "print(\"Multiplication of two number :\",num1*num2)\n",
        "print(\"Division of two number :\",num1/num2)\n",
        "print(\"modulous of two number :\",num1%num2)\n",
        "print(\"Floor Division of two number :\",num1//num2)\n",
        "print(\"Exponential of two number :\",num1/num2)\n"
      ],
      "metadata": {
        "colab": {
          "base_uri": "https://localhost:8080/"
        },
        "id": "voiWdgX_TEOu",
        "outputId": "604e61b8-3665-4118-a91f-d968db4845de"
      },
      "execution_count": null,
      "outputs": [
        {
          "output_type": "stream",
          "name": "stdout",
          "text": [
            "Enter the first number2\n",
            "Enter the second number1\n",
            "Addition of two number : 3\n",
            "Subtraction of two number : 1\n",
            "Multiplication of two number : 2\n",
            "Division of two number : 2.0\n",
            "modulous of two number : 0\n",
            "Floor Division of two number : 2\n",
            "Exponential of two number : 2.0\n"
          ]
        }
      ]
    },
    {
      "cell_type": "code",
      "source": [
        "#8. Write a program to demonstrate the use of logical operators.\n",
        "num1=True\n",
        "num2=False\n",
        "print(\"logical Operator and :\",num1 and num2)\n",
        "print(\"logical Operator or :\",num1 or num2)\n",
        "print(\"logical Operator not :\",not num1 )"
      ],
      "metadata": {
        "colab": {
          "base_uri": "https://localhost:8080/"
        },
        "id": "0pqcNA_ATKf1",
        "outputId": "e0f24562-0735-44d8-d780-f8f774cdeafe"
      },
      "execution_count": null,
      "outputs": [
        {
          "output_type": "stream",
          "name": "stdout",
          "text": [
            "logical Operator and : False\n",
            "logical Operator or : True\n",
            "logical Operator not : False\n"
          ]
        }
      ]
    },
    {
      "cell_type": "code",
      "source": [
        "#9.  Write a Python program to convert user input from string to integer, float, and boolean types.\n",
        "user_input=input(\"Enter the number\")\n",
        "print(\"User_input :\",user_input)\n",
        "if user_input.isdigit():\n",
        "  #String --> integer\n",
        "  print(\"User input in integer:\",int(user_input))\n",
        "  #String --> float\n",
        "  print(\"User input in float:\",float(user_input))\n",
        "  #String --> boolean\n",
        "  print(\"User input in boolean:\",bool(user_input))\n",
        "else:\n",
        "  print(\"Invalid Input , Enter a digit\")"
      ],
      "metadata": {
        "colab": {
          "base_uri": "https://localhost:8080/"
        },
        "id": "Bgg4GGJuTPnC",
        "outputId": "1cf24b88-328c-4318-e129-1118abb4f221"
      },
      "execution_count": 16,
      "outputs": [
        {
          "output_type": "stream",
          "name": "stdout",
          "text": [
            "Enter the number123\n",
            "User_input : 123\n",
            "User input in integer: 123\n",
            "User input in float: 123.0\n",
            "User input in boolean: True\n"
          ]
        }
      ]
    },
    {
      "cell_type": "code",
      "source": [
        "\n",
        "#10. Write code to demonstrate type casting with list elements.\n",
        "\n",
        "#lst1 consist of float and integer\n",
        "def implicit(lst1):\n",
        "  total_sum=sum(lst1)\n",
        "  print(total_sum)\n",
        "\n",
        "def explicit(lst2):\n",
        "  num=[int(i) for i in lst2]\n",
        "  total_sum2=sum(num)\n",
        "  print(total_sum2)\n",
        "\n",
        "#lst2 consist of string and integer\n",
        "lst1=[1,2,3.3,4.5,6.0]\n",
        "lst2=['1','2','3','4','5']\n",
        "implicit(lst1)\n",
        "explicit(lst2)\n",
        "\n"
      ],
      "metadata": {
        "id": "EISldiWJTX3a",
        "colab": {
          "base_uri": "https://localhost:8080/"
        },
        "outputId": "604653e1-d447-4b7e-fe97-bfe74bdb37b1"
      },
      "execution_count": 15,
      "outputs": [
        {
          "output_type": "stream",
          "name": "stdout",
          "text": [
            "16.8\n",
            "15\n"
          ]
        }
      ]
    },
    {
      "cell_type": "code",
      "source": [
        "#11.Write a program that checks if a number is positive, negative, or zero.\n",
        "num=int(input(\"Enter the number\"))\n",
        "if num==0:\n",
        "  print(\"It is zero\")\n",
        "elif num>0:\n",
        "  print(\"It is a positive number\")\n",
        "else:\n",
        "  print(\"It is a negative number\")"
      ],
      "metadata": {
        "colab": {
          "base_uri": "https://localhost:8080/"
        },
        "id": "OM-NXUSkTd4m",
        "outputId": "155c28b0-7e79-4b8c-d983-294279358c82"
      },
      "execution_count": null,
      "outputs": [
        {
          "output_type": "stream",
          "name": "stdout",
          "text": [
            "Enter the number65\n",
            "It is a positive number\n"
          ]
        }
      ]
    },
    {
      "cell_type": "code",
      "source": [
        "#12. . Write a for loop to print numbers from 1 to 10.\n",
        "for i in range(1,11):\n",
        "  print(i)"
      ],
      "metadata": {
        "colab": {
          "base_uri": "https://localhost:8080/"
        },
        "id": "iDuAOsa6Tjl6",
        "outputId": "a22b6d41-d285-4108-a182-367d60f43328"
      },
      "execution_count": null,
      "outputs": [
        {
          "output_type": "stream",
          "name": "stdout",
          "text": [
            "1\n",
            "2\n",
            "3\n",
            "4\n",
            "5\n",
            "6\n",
            "7\n",
            "8\n",
            "9\n",
            "10\n"
          ]
        }
      ]
    },
    {
      "cell_type": "code",
      "source": [
        "#13.  Write a Python program to find the sum of all even numbers between 1 and 50.\n",
        "sum=0\n",
        "for i in range(2,51,2):\n",
        "  sum+=i\n",
        "print(sum)"
      ],
      "metadata": {
        "colab": {
          "base_uri": "https://localhost:8080/"
        },
        "id": "r4VO-RFvTooX",
        "outputId": "d0f9abe6-4c27-4f4f-debf-7f4a497a0960"
      },
      "execution_count": null,
      "outputs": [
        {
          "output_type": "stream",
          "name": "stdout",
          "text": [
            "650\n"
          ]
        }
      ]
    },
    {
      "cell_type": "code",
      "source": [
        "#14. Write a program to reverse a string using a while loop.\n",
        "string=input(\"Enter the string\")\n",
        "i=len(string)-1\n",
        "while i>=0:\n",
        "  print(string[i],end=\"\")\n",
        "  i-=1\n"
      ],
      "metadata": {
        "id": "H_wMCuSiTvz6",
        "colab": {
          "base_uri": "https://localhost:8080/"
        },
        "outputId": "43c32142-cfcb-49a5-c897-6642c6265bad"
      },
      "execution_count": 8,
      "outputs": [
        {
          "output_type": "stream",
          "name": "stdout",
          "text": [
            "Enter the stringhello\n",
            "olleh"
          ]
        }
      ]
    },
    {
      "cell_type": "code",
      "source": [
        "#15.Write a Python program to calculate the factorial of a number provided by the user using a while loop.\n",
        "num=int(input(\"Enter the nukber :\"))\n",
        "i=2\n",
        "fact=1\n",
        "while i<=num:\n",
        "  fact=fact*i\n",
        "  i+=1\n",
        "print(f\"factorial of {num} is {fact}\")"
      ],
      "metadata": {
        "colab": {
          "base_uri": "https://localhost:8080/"
        },
        "id": "KEgwLE83T8Ou",
        "outputId": "944474b3-c619-4324-af8e-30dd94e4a008"
      },
      "execution_count": null,
      "outputs": [
        {
          "output_type": "stream",
          "name": "stdout",
          "text": [
            "Enter the nukber :4\n",
            "factorial of 4 is 24\n"
          ]
        }
      ]
    }
  ]
}