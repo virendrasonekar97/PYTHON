{
  "nbformat": 4,
  "nbformat_minor": 0,
  "metadata": {
    "colab": {
      "provenance": [],
      "authorship_tag": "ABX9TyNbCTzD40KYP1rlRbzpCx7E",
      "include_colab_link": true
    },
    "kernelspec": {
      "name": "python3",
      "display_name": "Python 3"
    },
    "language_info": {
      "name": "python"
    }
  },
  "cells": [
    {
      "cell_type": "markdown",
      "metadata": {
        "id": "view-in-github",
        "colab_type": "text"
      },
      "source": [
        "<a href=\"https://colab.research.google.com/github/virendrasonekar97/PYTHON/blob/main/Untitled10.ipynb\" target=\"_parent\"><img src=\"https://colab.research.google.com/assets/colab-badge.svg\" alt=\"Open In Colab\"/></a>"
      ]
    },
    {
      "cell_type": "markdown",
      "source": [
        "Statistics Advanced - 2| Assignment"
      ],
      "metadata": {
        "id": "2MlIN_CGUWso"
      }
    },
    {
      "cell_type": "markdown",
      "source": [
        "Question 1: What is hypothesis testing in statistics?\n",
        "\n",
        "\n",
        "Hypothesis testing is a statistical method used to make decisions or inferences about population parameters based on sample data. It involves formulating a null hypothesis and an alternative hypothesis, collecting data, and then using statistical tests to decide whether to reject the null hypothesis. The goal is to assess evidence provided by the data regarding a specific claim about the population.\n",
        "\n",
        "​\n",
        "\n",
        "Question 2: What is the null hypothesis, and how does it differ from the alternative hypothesis?\n",
        "\n",
        "\n",
        "The null hypothesis (\n",
        "H\n",
        "0\n",
        "H\n",
        "0\n",
        " ) is a statement that there is no effect or no difference, and it represents the status quo or default assumption in a hypothesis test. The alternative hypothesis (\n",
        "H\n",
        "1\n",
        "H\n",
        "1\n",
        " ) is the statement that there is an effect or a difference. The null hypothesis is tested directly, and if there is sufficient evidence in the data, it can be rejected in favor of the alternative hypothesis.\n",
        "\n",
        " ​\n",
        "\n",
        "Question 3: Explain the significance level in hypothesis testing and its role in deciding the outcome of a test.\n",
        "\n",
        "\n",
        "The significance level (usually denoted as\n",
        "α\n",
        "α) is the probability of rejecting the null hypothesis when it is actually true—a Type I error. Common significance levels are 0.05 or 0.01. If the p-value of the test statistic is less than\n",
        "α\n",
        "α, the null hypothesis is rejected. The significance level helps determine how strong evidence must be before the null hypothesis is rejected.​\n",
        "\n",
        "\n",
        "\n",
        "\n",
        "Question 4: What are Type I and Type II errors?\n",
        "\n",
        "\n",
        " Give examples of each.\n",
        "Type I error: Rejecting the null hypothesis when it is actually true (false positive). Example: Concluding a medicine works when it does not.\n",
        "\n",
        "Type II error: Failing to reject the null hypothesis when the alternative hypothesis is true (false negative). Example: Concluding a medicine does not work when it actually does.\n",
        "\n",
        "​\n",
        "\n",
        "Question 5: What is the difference between a Z-test and a T-test? Explain when to use each.\n",
        "\n",
        "\n",
        "Z-test: Used when the sample size is large (\n",
        "n\n",
        ">\n",
        "30\n",
        "n>30), and the population standard deviation is known.\n",
        "\n",
        "T-test: Used when the sample size is small (\n",
        "n\n",
        "≤\n",
        "30\n",
        "n≤30) and the population standard deviation is unknown.\n",
        "Use Z-test for large samples or known variance; use T-test for small samples or unknown variance.​"
      ],
      "metadata": {
        "id": "sr8dDcihUZiA"
      }
    },
    {
      "cell_type": "markdown",
      "source": [
        "Question 6: Write a Python program to generate a binomial distribution with\n",
        "n\n",
        "=\n",
        "10\n",
        "n=10 and\n",
        "p\n",
        "=\n",
        "0.5\n",
        "p=0.5, then plot its histogram."
      ],
      "metadata": {
        "id": "zn6LaPuOVQdo"
      }
    },
    {
      "cell_type": "code",
      "source": [
        "import numpy as np\n",
        "import matplotlib.pyplot as plt\n",
        "\n",
        "n, p = 10, 0.5\n",
        "data = np.random.binomial(n, p, 1000)\n",
        "plt.hist(data, bins=11, edgecolor='k')\n",
        "plt.title('Binomial Distribution (n=10, p=0.5)')\n",
        "plt.xlabel('Number of successes')\n",
        "plt.ylabel('Frequency')\n",
        "plt.show()\n"
      ],
      "metadata": {
        "colab": {
          "base_uri": "https://localhost:8080/",
          "height": 472
        },
        "id": "uAuqK7X8VRrY",
        "outputId": "7060b85b-ea96-480f-a80c-c1dd2ca581cd"
      },
      "execution_count": 1,
      "outputs": [
        {
          "output_type": "display_data",
          "data": {
            "text/plain": [
              "<Figure size 640x480 with 1 Axes>"
            ],
            "image/png": "[encoded data removed]"
          },
          "metadata": {}
        }
      ]
    },
    {
      "cell_type": "markdown",
      "source": [
        "This code simulates a binomial distribution and creates a histogram of the results."
      ],
      "metadata": {
        "id": "4MK1EavSVbNQ"
      }
    },
    {
      "cell_type": "markdown",
      "source": [
        "Question 7: Implement hypothesis testing using Z-statistics for a sample dataset in Python.\n",
        "Given data:"
      ],
      "metadata": {
        "id": "eyDu6AclVb-g"
      }
    },
    {
      "cell_type": "code",
      "source": [
        "sample_data = [49.1, 50.2, 51.0, 48.7, 50.5, 49.8, 50.3, 50.7, 50.2, 49.6,\n",
        "               50.1, 49.9, 50.8, 50.4, 48.9, 50.6, 50.0, 49.7, 50.2, 49.5,\n",
        "               50.1, 50.3, 50.4, 50.5, 50.0, 50.7, 49.3, 49.8, 50.2, 50.9,\n",
        "               50.3, 50.4, 50.0, 49.7, 50.5, 49.9]\n"
      ],
      "metadata": {
        "id": "NOprWR_LVgMz"
      },
      "execution_count": 2,
      "outputs": []
    },
    {
      "cell_type": "markdown",
      "source": [
        "Python code:"
      ],
      "metadata": {
        "id": "Mb1VO1j1VXll"
      }
    },
    {
      "cell_type": "code",
      "source": [
        "from scipy import stats\n",
        "import numpy as np\n",
        "\n",
        "data = [49.1, 50.2, 51.0, 48.7, 50.5, 49.8, 50.3, 50.7, 50.2, 49.6,\n",
        "        50.1, 49.9, 50.8, 50.4, 48.9, 50.6, 50.0, 49.7, 50.2, 49.5,\n",
        "        50.1, 50.3, 50.4, 50.5, 50.0, 50.7, 49.3, 49.8, 50.2, 50.9,\n",
        "        50.3, 50.4, 50.0, 49.7, 50.5, 49.9]\n",
        "mean = np.mean(data)\n",
        "std = np.std(data)\n",
        "z_stat = (mean - 50) / (std/np.sqrt(len(data)))\n",
        "p_value = stats.norm.sf(abs(z_stat))*2\n",
        "print(\"Z-statistic:\", z_stat)\n",
        "print(\"P-value:\", p_value)\n"
      ],
      "metadata": {
        "colab": {
          "base_uri": "https://localhost:8080/"
        },
        "id": "nGQYpruzVolL",
        "outputId": "c7770553-b1d6-4098-945e-0b19fdcc74cc"
      },
      "execution_count": 3,
      "outputs": [
        {
          "output_type": "stream",
          "name": "stdout",
          "text": [
            "Z-statistic: 1.0081275362005009\n",
            "P-value: 0.3133932398638154\n"
          ]
        }
      ]
    },
    {
      "cell_type": "markdown",
      "source": [
        "Interpretation: If p_value < 0.05, reject the null hypothesis. Otherwise, fail to reject."
      ],
      "metadata": {
        "id": "nP4tou-sVsIN"
      }
    },
    {
      "cell_type": "markdown",
      "source": [
        "Question 8: Write a Python script to simulate data from a normal distribution and calculate the 95% confidence interval for its mean. Plot the data using Matplotlib."
      ],
      "metadata": {
        "id": "JS8EiF5uVvOh"
      }
    },
    {
      "cell_type": "code",
      "source": [
        "import numpy as np\n",
        "import matplotlib.pyplot as plt\n",
        "from scipy.stats import norm\n",
        "\n",
        "data = np.random.normal(50, 2, 100)\n",
        "mean = np.mean(data)\n",
        "std = np.std(data)\n",
        "conf_int = norm.interval(0.95, loc=mean, scale=std/np.sqrt(len(data)))\n",
        "plt.hist(data, bins=20, edgecolor='k')\n",
        "plt.title('Normal Distribution')\n",
        "plt.xlabel('Value')\n",
        "plt.ylabel('Frequency')\n",
        "plt.show()\n",
        "print(\"95% Confidence interval:\", conf_int)\n"
      ],
      "metadata": {
        "colab": {
          "base_uri": "https://localhost:8080/",
          "height": 489
        },
        "id": "-wzD-hOzVx9Y",
        "outputId": "1d0e6f25-96fc-408d-f251-fcf63fddb3aa"
      },
      "execution_count": 4,
      "outputs": [
        {
          "output_type": "display_data",
          "data": {
            "text/plain": [
              "<Figure size 640x480 with 1 Axes>"
            ],
            "image/png": "[encoded data removed]"
          },
          "metadata": {}
        },
        {
          "output_type": "stream",
          "name": "stdout",
          "text": [
            "95% Confidence interval: (np.float64(49.7678648437386), np.float64(50.58415797979965))\n"
          ]
        }
      ]
    },
    {
      "cell_type": "markdown",
      "source": [
        "This script simulates normal data, plots a histogram, and calculates the confidence interval for the mean."
      ],
      "metadata": {
        "id": "Ruqhfs-6V2k1"
      }
    },
    {
      "cell_type": "markdown",
      "source": [
        "Question 9: Write a Python function to calculate the Z-scores from a dataset and visualize the standardized data using a histogram. Explain what the Z-scores represent in terms of standard deviations from the mean"
      ],
      "metadata": {
        "id": "P2F4NwsLV3J9"
      }
    },
    {
      "cell_type": "code",
      "source": [
        "import numpy as np\n",
        "import matplotlib.pyplot as plt\n",
        "\n",
        "def z_scores(data):\n",
        "    mean = np.mean(data)\n",
        "    std = np.std(data)\n",
        "    return [(x - mean)/std for x in data]\n",
        "\n",
        "data = np.random.normal(50, 2, 100)\n",
        "z = z_scores(data)\n",
        "plt.hist(z, bins=20, edgecolor='k')\n",
        "plt.title('Z-scores Histogram')\n",
        "plt.xlabel('Z-score')\n",
        "plt.ylabel('Frequency')\n",
        "plt.show()\n"
      ],
      "metadata": {
        "colab": {
          "base_uri": "https://localhost:8080/",
          "height": 472
        },
        "id": "y2nNUBVeV6nP",
        "outputId": "9ffecb0d-a48d-4407-9695-cb9273ed0322"
      },
      "execution_count": 5,
      "outputs": [
        {
          "output_type": "display_data",
          "data": {
            "text/plain": [
              "<Figure size 640x480 with 1 Axes>"
            ],
            "image/png": "[encoded data removed]"
          },
          "metadata": {}
        }
      ]
    },
    {
      "cell_type": "markdown",
      "source": [
        "Explanation: Z-scores indicate how many standard deviations a value is from the mean. A Z-score of 0 means the value is at the mean; a score of 1 means one standard deviation above the mean.​"
      ],
      "metadata": {
        "id": "UodjAy4QV9ri"
      }
    }
  ]
}