{
  "nbformat": 4,
  "nbformat_minor": 0,
  "metadata": {
    "colab": {
      "provenance": [],
      "authorship_tag": "ABX9TyNZUmenA8cpJWkS1tI5k8Ej",
      "include_colab_link": true
    },
    "kernelspec": {
      "name": "python3",
      "display_name": "Python 3"
    },
    "language_info": {
      "name": "python"
    }
  },
  "cells": [
    {
      "cell_type": "markdown",
      "metadata": {
        "id": "view-in-github",
        "colab_type": "text"
      },
      "source": [
        "<a href=\"https://colab.research.google.com/github/virendrasonekar97/PYTHON/blob/main/Untitled9.ipynb\" target=\"_parent\"><img src=\"https://colab.research.google.com/assets/colab-badge.svg\" alt=\"Open In Colab\"/></a>"
      ]
    },
    {
      "cell_type": "markdown",
      "source": [
        "Statistics Advanced - 1| Assignment"
      ],
      "metadata": {
        "id": "XXXtzaqS5Sz0"
      }
    },
    {
      "cell_type": "markdown",
      "source": [
        ". What is a random variable in probability theory?\n",
        "\n",
        "A random variable is a variable whose possible values are outcomes of a random phenomenon. It assigns a numerical value to each possible outcome of a random experiment, allowing for quantitative analysis of probability events"
      ],
      "metadata": {
        "id": "oKQEoSur5XBl"
      }
    },
    {
      "cell_type": "markdown",
      "source": [
        "2. What are the types of random variables?\n",
        "\n",
        "\n",
        "There are primarily two types of random variables: discrete and continuous. Discrete random variables take on countable values, such as the number of heads in coin tosses, while continuous random variables take on any value within a range, like the exact height of students in a class."
      ],
      "metadata": {
        "id": "vixWo3aM5fo6"
      }
    },
    {
      "cell_type": "markdown",
      "source": [
        "3. Explain the difference between discrete and continuous distributions.\n",
        "\n",
        "\n",
        "Discrete distributions describe probabilities of outcomes of a discrete random variable, such as the binomial distribution. Continuous distributions, like the normal distribution, are associated with continuous random variables and are described using probability density functions."
      ],
      "metadata": {
        "id": "zLPJ0QaL5j1Q"
      }
    },
    {
      "cell_type": "markdown",
      "source": [
        "4. What is a binomial distribution, and how is it used in probability?\n",
        "\n",
        "\n",
        "A binomial distribution models the number of successful outcomes in a fixed number of independent experiments, each with the same probability of success. It is used for scenarios like finding the probability of getting a certain number of heads in several coin tosses"
      ],
      "metadata": {
        "id": "8QrlCzLw5oxh"
      }
    },
    {
      "cell_type": "markdown",
      "source": [
        "5. What is the standard normal distribution, and why is it important?\n",
        "\n",
        "\n",
        "The standard normal distribution is a normal distribution with a mean of 0 and a standard deviation of 1. It is important because it serves as a reference for calculating probabilities, z-scores, and for inferential statistics like hypothesis testing."
      ],
      "metadata": {
        "id": "_ZjYV9LR5tFk"
      }
    },
    {
      "cell_type": "markdown",
      "source": [
        "6. What is the Central Limit Theorem (CLT), and why is it critical in statistics?\n",
        "\n",
        "\n",
        "The CLT states that the distribution of the sample mean of a sufficiently large number of independent random variables, each with finite mean and variance, approaches a normal distribution, regardless of the shape of the population distribution. It is critical for making statistical inferences about population means using sample data."
      ],
      "metadata": {
        "id": "OfoJ6QPS5yVw"
      }
    },
    {
      "cell_type": "markdown",
      "source": [
        "7. What is the significance of confidence intervals in statistical analysis?\n",
        "\n",
        "\n",
        "Confidence intervals give a range within which a population parameter is expected to lie, with a specified level of confidence (e.g., 95%). They help to express the uncertainty in estimation and are widely used in reporting the reliability of statistical estimates."
      ],
      "metadata": {
        "id": "yU7N6U7T53AL"
      }
    },
    {
      "cell_type": "markdown",
      "source": [
        "8. What is the concept of expected value in a probability distribution?\n",
        "\n",
        "\n",
        "The expected value is the long-term average or mean of a random variable, calculated by weighting every possible outcome by its probability. It represents the value expected on average when an experiment is repeated many times."
      ],
      "metadata": {
        "id": "ocodJtLL57Mm"
      }
    },
    {
      "cell_type": "markdown",
      "source": [
        "9. Write a Python program to generate 1000 random numbers from a normal distribution with mean 50 and standard deviation 5. Compute its mean and standard deviation using NumPy, and draw a histogram to visualize the distribution."
      ],
      "metadata": {
        "id": "v8CXrBtG6BG6"
      }
    },
    {
      "cell_type": "code",
      "source": [
        "import numpy as np\n",
        "import matplotlib.pyplot as plt\n",
        "\n",
        "data = np.random.normal(loc=50, scale=5, size=1000)\n",
        "mean = np.mean(data)\n",
        "std_dev = np.std(data)\n",
        "\n",
        "print(\"Mean:\", mean)\n",
        "print(\"Standard Deviation:\", std_dev)\n",
        "\n",
        "plt.hist(data, bins=30, edgecolor='k')\n",
        "plt.title('Histogram of Generated Data')\n",
        "plt.xlabel('Value')\n",
        "plt.ylabel('Frequency')\n",
        "plt.show()\n"
      ],
      "metadata": {
        "colab": {
          "base_uri": "https://localhost:8080/",
          "height": 507
        },
        "id": "tscbPVqZ6FXN",
        "outputId": "efad3c4c-f662-44ac-98b3-536013ee7725"
      },
      "execution_count": 1,
      "outputs": [
        {
          "output_type": "stream",
          "name": "stdout",
          "text": [
            "Mean: 50.16273422988827\n",
            "Standard Deviation: 4.931897829212006\n"
          ]
        },
        {
          "output_type": "display_data",
          "data": {
            "text/plain": [
              "<Figure size 640x480 with 1 Axes>"
            ],
            "image/png": "[encoded data removed]"
          },
          "metadata": {}
        }
      ]
    },
    {
      "cell_type": "markdown",
      "source": [
        "10. Central Limit Theorem application for retail sales data\n",
        "To estimate average sales with a 95% confidence interval using the Central Limit Theorem, first calculate the sample mean and standard deviation. The confidence interval can be computed using the formula:\n",
        " CI=x\n",
        "ˉ\n",
        " ±z×\n",
        "n\n",
        "\n",
        "s\n",
        "\n",
        "where\n",
        "x\n",
        "ˉ\n",
        "x\n",
        "ˉ\n",
        "  is sample mean,\n",
        "s\n",
        "s is standard deviation,\n",
        "n\n",
        "n is sample size, and\n",
        "z\n",
        "z is z-score for the desired confidence level (1.96 for 95%).\n"
      ],
      "metadata": {
        "id": "7zcLC-Yd6diH"
      }
    },
    {
      "cell_type": "code",
      "source": [
        "import numpy as np\n",
        "from scipy.stats import norm\n",
        "\n",
        "sales = [220, 245, 210, 265, 230, 250, 260, 275, 240, 255, 235, 260, 245, 250, 225, 270, 265, 255, 250, 260]\n",
        "mean = np.mean(sales)\n",
        "std_dev = np.std(sales, ddof=1)\n",
        "n = len(sales)\n",
        "z = norm.ppf(0.975)\n",
        "\n",
        "ci_lower = mean - z * (std_dev / np.sqrt(n))\n",
        "ci_upper = mean + z * (std_dev / np.sqrt(n))\n",
        "\n",
        "print(f\"Mean Sales: {mean}\")\n",
        "print(f\"95% Confidence Interval: ({ci_lower}, {ci_upper})\")\n"
      ],
      "metadata": {
        "colab": {
          "base_uri": "https://localhost:8080/"
        },
        "id": "-HjSDHKI6PMM",
        "outputId": "0cee36e5-da0c-40fd-ea25-8d5d75e800db"
      },
      "execution_count": 2,
      "outputs": [
        {
          "output_type": "stream",
          "name": "stdout",
          "text": [
            "Mean Sales: 248.25\n",
            "95% Confidence Interval: (240.68326838343515, 255.81673161656485)\n"
          ]
        }
      ]
    }
  ]
}