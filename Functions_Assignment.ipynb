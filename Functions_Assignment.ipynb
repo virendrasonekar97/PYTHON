{
  "nbformat": 4,
  "nbformat_minor": 0,
  "metadata": {
    "colab": {
      "provenance": [],
      "authorship_tag": "ABX9TyMvjJ8BpwTDvuETVF559S7f",
      "include_colab_link": true
    },
    "kernelspec": {
      "name": "python3",
      "display_name": "Python 3"
    },
    "language_info": {
      "name": "python"
    }
  },
  "cells": [
    {
      "cell_type": "markdown",
      "metadata": {
        "id": "view-in-github",
        "colab_type": "text"
      },
      "source": [
        "<a href=\"https://colab.research.google.com/github/virendrasonekar97/PYTHON/blob/main/Functions_Assignment.ipynb\" target=\"_parent\"><img src=\"https://colab.research.google.com/assets/colab-badge.svg\" alt=\"Open In Colab\"/></a>"
      ]
    },
    {
      "cell_type": "markdown",
      "source": [],
      "metadata": {
        "id": "Ty1PlTCTbWjX"
      }
    },
    {
      "cell_type": "markdown",
      "source": [
        "Functions Assignment\n",
        "\n",
        "1. Difference between a function and a method in Python\n",
        "\n",
        "Function: A block of reusable code that performs a specific task, defined using the def keyword.\n",
        "\n",
        "Method: A function that is associated with an object (belongs to a class). It is called using the object."
      ],
      "metadata": {
        "id": "ebNexhEFujS3"
      }
    },
    {
      "cell_type": "code",
      "source": [
        "# Function\n",
        "def greet(name):\n",
        "    return f\"Hello {name}\"\n",
        "\n",
        "# Method\n",
        "class Person:\n",
        "    def greet(self):\n",
        "        return \"Hello from the class!\"\n",
        "\n",
        "print(greet(\"Aman\"))             # Function\n",
        "print(Person().greet())          # Method\n"
      ],
      "metadata": {
        "colab": {
          "base_uri": "https://localhost:8080/"
        },
        "id": "SnIFNMpKusri",
        "outputId": "c3353476-5823-4f59-ce27-3640d6025fba"
      },
      "execution_count": 1,
      "outputs": [
        {
          "output_type": "stream",
          "name": "stdout",
          "text": [
            "Hello Aman\n",
            "Hello from the class!\n"
          ]
        }
      ]
    },
    {
      "cell_type": "markdown",
      "source": [
        "2. Function arguments and parameters in Python\n",
        "\n",
        "Parameter: Variable in the function definition.\n",
        "\n",
        "Argument: Actual value passed to the function during the call.\n",
        "\n",
        "Example:"
      ],
      "metadata": {
        "id": "V18GBO9gu5LP"
      }
    },
    {
      "cell_type": "code",
      "source": [
        "def add(a, b):  # a, b are parameters\n",
        "    return a + b\n",
        "\n",
        "print(add(5, 3))  # 5 and 3 are arguments\n"
      ],
      "metadata": {
        "colab": {
          "base_uri": "https://localhost:8080/"
        },
        "id": "TwnF4uDRu94E",
        "outputId": "491dbab7-e26d-4930-bc9b-0b0d314041a3"
      },
      "execution_count": 2,
      "outputs": [
        {
          "output_type": "stream",
          "name": "stdout",
          "text": [
            "8\n"
          ]
        }
      ]
    },
    {
      "cell_type": "markdown",
      "source": [
        "3. Ways to define and call a function in Python\n",
        "\n",
        "Regular functions using def\n",
        "\n",
        "Lambda functions\n",
        "\n",
        "Using *args and **kwargs\n",
        "\n",
        "Examples:"
      ],
      "metadata": {
        "id": "Z_HvmgxMvCQQ"
      }
    },
    {
      "cell_type": "code",
      "source": [
        "# Normal function\n",
        "def square(x):\n",
        "    return x * x\n",
        "print(square(4))\n",
        "\n",
        "# Lambda function\n",
        "sq = lambda x: x * x\n",
        "print(sq(4))\n"
      ],
      "metadata": {
        "colab": {
          "base_uri": "https://localhost:8080/"
        },
        "id": "g_HeNwy4vGyK",
        "outputId": "8d0fdfb5-6e77-4da6-a445-d801b3ec9b8f"
      },
      "execution_count": 3,
      "outputs": [
        {
          "output_type": "stream",
          "name": "stdout",
          "text": [
            "16\n",
            "16\n"
          ]
        }
      ]
    },
    {
      "cell_type": "markdown",
      "source": [
        "4. Purpose of return statement\n",
        "\n",
        "It exits the function and sends data back to the caller.\n",
        "\n",
        "Example:"
      ],
      "metadata": {
        "id": "EY9zNlSKvK9c"
      }
    },
    {
      "cell_type": "code",
      "source": [
        "def add(a, b):\n",
        "    return a + b\n",
        "\n",
        "result = add(5, 3)\n",
        "print(result)"
      ],
      "metadata": {
        "colab": {
          "base_uri": "https://localhost:8080/"
        },
        "id": "vGGlxPJqvOfZ",
        "outputId": "4e2785b0-1ef9-4ea9-9264-cbd425967fc5"
      },
      "execution_count": 57,
      "outputs": [
        {
          "output_type": "stream",
          "name": "stdout",
          "text": [
            "8\n"
          ]
        }
      ]
    },
    {
      "cell_type": "markdown",
      "source": [
        "5. Iterators vs Iterables\n",
        "\n",
        "Iterable: Any object capable of returning its members one at a time (e.g., list, tuple).\n",
        "\n",
        "Iterator: An object that represents a stream of data, produced using iter() and consumed using next().\n",
        "\n",
        "Example:"
      ],
      "metadata": {
        "id": "zca_Ah0JvSLV"
      }
    },
    {
      "cell_type": "code",
      "source": [
        "nums = [1, 2, 3]  # Iterable\n",
        "it = iter(nums)   # Iterator\n",
        "print(next(it))\n"
      ],
      "metadata": {
        "colab": {
          "base_uri": "https://localhost:8080/"
        },
        "id": "5aHXI-F3vVgG",
        "outputId": "dd1319b5-6882-410f-aa65-f0b3a504de0e"
      },
      "execution_count": 5,
      "outputs": [
        {
          "output_type": "stream",
          "name": "stdout",
          "text": [
            "1\n"
          ]
        }
      ]
    },
    {
      "cell_type": "markdown",
      "source": [
        "6. Generators\n",
        "\n",
        "Special functions that yield values using the yield keyword instead of returning.\n",
        "\n",
        "Useful for memory efficiency.\n",
        "\n",
        "Example:"
      ],
      "metadata": {
        "id": "K7c2JZEIvpFi"
      }
    },
    {
      "cell_type": "code",
      "source": [
        "def my_gen():\n",
        "    yield 1\n",
        "    yield 2\n",
        "\n",
        "for value in my_gen():\n",
        "    print(value)\n"
      ],
      "metadata": {
        "colab": {
          "base_uri": "https://localhost:8080/"
        },
        "id": "RvorAf2swTDj",
        "outputId": "62f7faff-8152-460d-aa62-e103275249a9"
      },
      "execution_count": 13,
      "outputs": [
        {
          "output_type": "stream",
          "name": "stdout",
          "text": [
            "1\n",
            "2\n"
          ]
        }
      ]
    },
    {
      "cell_type": "markdown",
      "source": [
        "7. Advantages of generators\n",
        "\n",
        "Memory efficient (does not store all results in memory).\n",
        "\n",
        "Lazy evaluation (generates items one at a time).\n",
        "\n",
        "8. Lambda function\n",
        "\n",
        "An anonymous (nameless) function written in one line, defined using lambda.\n",
        "\n",
        "Example:"
      ],
      "metadata": {
        "id": "AKxvFStfwWOO"
      }
    },
    {
      "cell_type": "code",
      "source": [
        "add = lambda x, y: x + y\n",
        "print(add(2, 3))\n"
      ],
      "metadata": {
        "colab": {
          "base_uri": "https://localhost:8080/"
        },
        "id": "dQ5hYrOrwcBZ",
        "outputId": "542cfd82-be59-46e2-eec9-714c32c4ac57"
      },
      "execution_count": 14,
      "outputs": [
        {
          "output_type": "stream",
          "name": "stdout",
          "text": [
            "5\n"
          ]
        }
      ]
    },
    {
      "cell_type": "markdown",
      "source": [
        "9. map() in Python\n",
        "\n",
        "The map() function applies a function to each item in an iterable.\n",
        "\n",
        "Example:"
      ],
      "metadata": {
        "id": "-Oncr3E9wgWO"
      }
    },
    {
      "cell_type": "code",
      "source": [
        "nums = [1, 2, 3]\n",
        "result = map(lambda x: x * 2, nums)\n",
        "print(list(result))\n"
      ],
      "metadata": {
        "colab": {
          "base_uri": "https://localhost:8080/"
        },
        "id": "pZBVG45gwhXt",
        "outputId": "727545df-1609-4a8f-cdc6-6911a7923855"
      },
      "execution_count": 15,
      "outputs": [
        {
          "output_type": "stream",
          "name": "stdout",
          "text": [
            "[2, 4, 6]\n"
          ]
        }
      ]
    },
    {
      "cell_type": "markdown",
      "source": [
        "10. Difference between map(), reduce(), and filter()\n",
        "\n",
        "map → applies a function to all elements in an iterable.\n",
        "\n",
        "filter → filters elements based on a condition.\n",
        "\n",
        "reduce → reduces an iterable to a single value using cumulative computation.\n",
        "\n",
        "Example:"
      ],
      "metadata": {
        "id": "JpLmfJBIwkPX"
      }
    },
    {
      "cell_type": "code",
      "source": [
        "from functools import reduce\n",
        "nums = [1, 2, 3, 4]\n",
        "print(list(map(lambda x: x*2, nums)))\n",
        "print(list(filter(lambda x: x % 2 == 0, nums)))\n",
        "print(reduce(lambda x, y: x + y, nums))\n"
      ],
      "metadata": {
        "colab": {
          "base_uri": "https://localhost:8080/"
        },
        "id": "2jgzRQctwoWU",
        "outputId": "56833282-81ff-464a-b8bc-e19e8952096f"
      },
      "execution_count": 16,
      "outputs": [
        {
          "output_type": "stream",
          "name": "stdout",
          "text": [
            "[2, 4, 6, 8]\n",
            "[2, 4]\n",
            "10\n"
          ]
        }
      ]
    },
    {
      "cell_type": "markdown",
      "source": [
        "Practical Answers"
      ],
      "metadata": {
        "id": "2BRecNLSww54"
      }
    },
    {
      "cell_type": "markdown",
      "source": [
        "1. Sum of all even numbers in a list"
      ],
      "metadata": {
        "id": "gGjA-3lIwz2p"
      }
    },
    {
      "cell_type": "code",
      "source": [
        "def sum_even(nums):\n",
        "    return sum([n for n in nums if n % 2 == 0])\n",
        "\n",
        "print(sum_even([1, 2, 3, 4, 5, 6]))\n"
      ],
      "metadata": {
        "colab": {
          "base_uri": "https://localhost:8080/"
        },
        "id": "S2l05rZsw2XM",
        "outputId": "25257c88-911f-4de7-f140-05c5487dffd0"
      },
      "execution_count": 17,
      "outputs": [
        {
          "output_type": "stream",
          "name": "stdout",
          "text": [
            "12\n"
          ]
        }
      ]
    },
    {
      "cell_type": "markdown",
      "source": [
        "2. Reverse a string"
      ],
      "metadata": {
        "id": "1nPkWp95w5Tw"
      }
    },
    {
      "cell_type": "code",
      "source": [
        "def reverse_string(s):\n",
        "    return s[::-1]\n",
        "\n",
        "print(reverse_string(\"Python\"))\n"
      ],
      "metadata": {
        "colab": {
          "base_uri": "https://localhost:8080/"
        },
        "id": "LsDNyM9Mw665",
        "outputId": "8164964d-d405-4cb6-b0b2-0eb7f703fe5b"
      },
      "execution_count": 18,
      "outputs": [
        {
          "output_type": "stream",
          "name": "stdout",
          "text": [
            "nohtyP\n"
          ]
        }
      ]
    },
    {
      "cell_type": "markdown",
      "source": [
        "3. Squares of numbers in a list"
      ],
      "metadata": {
        "id": "qNCCKV2jw-TL"
      }
    },
    {
      "cell_type": "code",
      "source": [
        "def square_list(nums):\n",
        "    return [n**2 for n in nums]\n",
        "\n",
        "print(square_list([1, 2, 3]))\n"
      ],
      "metadata": {
        "colab": {
          "base_uri": "https://localhost:8080/"
        },
        "id": "udZVa9dixAU9",
        "outputId": "ee7e4fb6-f4f2-4437-e378-f294c97b9af6"
      },
      "execution_count": 19,
      "outputs": [
        {
          "output_type": "stream",
          "name": "stdout",
          "text": [
            "[1, 4, 9]\n"
          ]
        }
      ]
    },
    {
      "cell_type": "markdown",
      "source": [
        "4. Prime numbers from 1 to 200"
      ],
      "metadata": {
        "id": "p2RY0ZwixCYP"
      }
    },
    {
      "cell_type": "code",
      "source": [
        "def is_prime(n):\n",
        "    if n < 2:\n",
        "        return False\n",
        "    for i in range(2, int(n**0.5)+1):\n",
        "        if n % i == 0:\n",
        "            return False\n",
        "    return True\n",
        "\n",
        "primes = [n for n in range(1, 201) if is_prime(n)]\n",
        "print(primes)\n"
      ],
      "metadata": {
        "colab": {
          "base_uri": "https://localhost:8080/"
        },
        "id": "cn3GsqLLxEtX",
        "outputId": "ff63744e-9954-445b-a327-aa78a9e9e824"
      },
      "execution_count": 20,
      "outputs": [
        {
          "output_type": "stream",
          "name": "stdout",
          "text": [
            "[2, 3, 5, 7, 11, 13, 17, 19, 23, 29, 31, 37, 41, 43, 47, 53, 59, 61, 67, 71, 73, 79, 83, 89, 97, 101, 103, 107, 109, 113, 127, 131, 137, 139, 149, 151, 157, 163, 167, 173, 179, 181, 191, 193, 197, 199]\n"
          ]
        }
      ]
    },
    {
      "cell_type": "markdown",
      "source": [
        "5. Fibonacci iterator"
      ],
      "metadata": {
        "id": "PAZQ9-6mxIex"
      }
    },
    {
      "cell_type": "code",
      "source": [
        "class Fibonacci:\n",
        "    def __init__(self, terms):\n",
        "        self.terms = terms\n",
        "        self.a, self.b = 0, 1\n",
        "        self.count = 0\n",
        "\n",
        "    def __iter__(self):\n",
        "        return self\n",
        "\n",
        "    def __next__(self):\n",
        "        if self.count >= self.terms:\n",
        "            raise StopIteration\n",
        "        if self.count == 0:\n",
        "            self.count += 1\n",
        "            return 0\n",
        "        elif self.count == 1:\n",
        "            self.count += 1\n",
        "            return 1\n",
        "        else:\n",
        "            self.a, self.b = self.b, self.a + self.b\n",
        "            self.count += 1\n",
        "            return self.b\n",
        "\n",
        "for num in Fibonacci(10):\n",
        "    print(num)\n"
      ],
      "metadata": {
        "colab": {
          "base_uri": "https://localhost:8080/"
        },
        "id": "n5MgJr4rxLUE",
        "outputId": "9273731d-30ac-4253-9716-0f283ba658b5"
      },
      "execution_count": 21,
      "outputs": [
        {
          "output_type": "stream",
          "name": "stdout",
          "text": [
            "0\n",
            "1\n",
            "1\n",
            "2\n",
            "3\n",
            "5\n",
            "8\n",
            "13\n",
            "21\n",
            "34\n"
          ]
        }
      ]
    },
    {
      "cell_type": "markdown",
      "source": [
        "6. Generator: Powers of 2"
      ],
      "metadata": {
        "id": "qTHkEfhWxTG5"
      }
    },
    {
      "cell_type": "code",
      "source": [
        "def powers_of_two(n):\n",
        "    for i in range(n+1):\n",
        "        yield 2 ** i\n",
        "\n",
        "print(list(powers_of_two(5)))\n"
      ],
      "metadata": {
        "colab": {
          "base_uri": "https://localhost:8080/"
        },
        "id": "3bOVWHezxUNa",
        "outputId": "060da914-7f64-4503-9ef8-aaf8f9ae38fb"
      },
      "execution_count": 22,
      "outputs": [
        {
          "output_type": "stream",
          "name": "stdout",
          "text": [
            "[1, 2, 4, 8, 16, 32]\n"
          ]
        }
      ]
    },
    {
      "cell_type": "markdown",
      "source": [
        "7. Generator: Read file line by line"
      ],
      "metadata": {
        "id": "Oxhq1rknxXCz"
      }
    },
    {
      "cell_type": "code",
      "source": [
        "def read_lines(filename):\n",
        "    with open(filename, 'r') as f:\n",
        "        for line in f:\n",
        "            yield line.strip()\n"
      ],
      "metadata": {
        "id": "F7RHDsLcxZv3"
      },
      "execution_count": 31,
      "outputs": []
    },
    {
      "cell_type": "markdown",
      "source": [
        "8. Sort list of tuples by second element"
      ],
      "metadata": {
        "id": "iL-eAl6dxipr"
      }
    },
    {
      "cell_type": "code",
      "source": [
        "data = [(1, 3), (2, 1), (3, 2)]\n",
        "data.sort(key=lambda x: x[1])\n",
        "print(data)\n"
      ],
      "metadata": {
        "colab": {
          "base_uri": "https://localhost:8080/"
        },
        "id": "PF9fUpkaxlOV",
        "outputId": "f86671a6-42c5-4553-f352-5bab2042b221"
      },
      "execution_count": 30,
      "outputs": [
        {
          "output_type": "stream",
          "name": "stdout",
          "text": [
            "[(2, 1), (3, 2), (1, 3)]\n"
          ]
        }
      ]
    },
    {
      "cell_type": "markdown",
      "source": [
        "9. Celsius to Fahrenheit with map()\n"
      ],
      "metadata": {
        "id": "ysth6iESxsS0"
      }
    },
    {
      "cell_type": "code",
      "source": [
        "temps_c = [0, 20, 37]\n",
        "temps_f = list(map(lambda c: (c * 9/5) + 32, temps_c))\n",
        "print(temps_f)\n"
      ],
      "metadata": {
        "colab": {
          "base_uri": "https://localhost:8080/"
        },
        "id": "H-owA045xvzG",
        "outputId": "a08ac380-c623-4fb5-9692-c4f1b578059b"
      },
      "execution_count": 32,
      "outputs": [
        {
          "output_type": "stream",
          "name": "stdout",
          "text": [
            "[32.0, 68.0, 98.6]\n"
          ]
        }
      ]
    },
    {
      "cell_type": "markdown",
      "source": [
        "10. Remove vowels using filter()"
      ],
      "metadata": {
        "id": "w1eTNpWlxzGY"
      }
    },
    {
      "cell_type": "code",
      "source": [
        "text = \"Hello World\"\n",
        "result = \"\".join(filter(lambda ch: ch.lower() not in \"aeiou\", text))\n",
        "print(result)\n"
      ],
      "metadata": {
        "colab": {
          "base_uri": "https://localhost:8080/"
        },
        "id": "xtp2zK9Hx1fr",
        "outputId": "9e4ae1ba-e98f-40ff-c7cd-6133d66fdf74"
      },
      "execution_count": 33,
      "outputs": [
        {
          "output_type": "stream",
          "name": "stdout",
          "text": [
            "Hll Wrld\n"
          ]
        }
      ]
    },
    {
      "cell_type": "markdown",
      "source": [
        "11. Accounting routine"
      ],
      "metadata": {
        "id": "Pb7ReGELx5UO"
      }
    },
    {
      "cell_type": "code",
      "source": [
        "orders = [\n",
        "    [34587, \"Learning Python\", 4, 40.95],\n",
        "    [98762, \"Programming in C\", 5, 56.80],\n",
        "    [77226, \"Head First Java\", 3, 32.95]\n",
        "]\n",
        "\n",
        "# Calculate the total cost for each order and add shipping if necessary\n",
        "result = list(map(lambda order: (order[0], order[1], order[2] * order[3] + (10 if order[2] * order[3] < 100 else 0)), orders))\n",
        "print(result)"
      ],
      "metadata": {
        "colab": {
          "base_uri": "https://localhost:8080/"
        },
        "id": "VPDk1qARz_cE",
        "outputId": "70abfbbb-2ca9-4f33-c7ae-3d3fbee8b18e"
      },
      "execution_count": 62,
      "outputs": [
        {
          "output_type": "stream",
          "name": "stdout",
          "text": [
            "[(34587, 'Learning Python', 163.8), (98762, 'Programming in C', 284.0), (77226, 'Head First Java', 108.85000000000001)]\n"
          ]
        }
      ]
    }
  ]
}