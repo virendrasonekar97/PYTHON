{
  "nbformat": 4,
  "nbformat_minor": 0,
  "metadata": {
    "colab": {
      "provenance": [],
      "authorship_tag": "ABX9TyMsuaiATGIDc+iFlNv6aplW",
      "include_colab_link": true
    },
    "kernelspec": {
      "name": "python3",
      "display_name": "Python 3"
    },
    "language_info": {
      "name": "python"
    }
  },
  "cells": [
    {
      "cell_type": "markdown",
      "metadata": {
        "id": "view-in-github",
        "colab_type": "text"
      },
      "source": [
        "<a href=\"https://colab.research.google.com/github/virendrasonekar97/PYTHON/blob/main/Files%2C_exceptional_handling%2C_logging_.ipynb\" target=\"_parent\"><img src=\"https://colab.research.google.com/assets/colab-badge.svg\" alt=\"Open In Colab\"/></a>"
      ]
    },
    {
      "cell_type": "markdown",
      "source": [
        "Files, exceptional handling, logging and\n",
        "memory management Questions"
      ],
      "metadata": {
        "id": "q_LyaDdUBYbl"
      }
    },
    {
      "cell_type": "markdown",
      "source": [
        "Theory Questions & Answers"
      ],
      "metadata": {
        "id": "EjcJBbkvEH-F"
      }
    },
    {
      "cell_type": "markdown",
      "source": [
        "1. What is the difference between interpreted and compiled languages?\n",
        "\n",
        "Interpreted languages execute code line-by-line (like Python), whereas compiled languages (like C++) convert source code into machine code before execution. Interpreted languages allow easier debugging; compiled languages often deliver faster performance.\n",
        "\n",
        "2. What is exception handling in Python?\n",
        "\n",
        "Exception handling in Python is a mechanism to gracefully handle errors and unexpected conditions during program execution, using blocks like try, except, and finally.\n",
        "\n",
        "3. What is the purpose of the finally block in exception handling?\n",
        "\n",
        "The finally block is used to execute code that should run regardless of whether an exception occurred, such as cleanup operations or releasing resources.\n",
        "\n",
        "4. What is logging in Python?\n",
        "\n",
        "Logging in Python refers to tracking events while a program runs. Python’s logging module is used for recording messages, errors, and other information useful for debugging and auditing.\n",
        "\n",
        "5. What is the significance of the del method in Python?\n",
        "\n",
        "The __del__ method is a destructor in Python, called when an object is about to be destroyed, allowing for cleanup actions like closing files or releasing resources.\n",
        "\n",
        "6. What is the difference between import and from ... import in Python?\n",
        "\n",
        "import module imports the whole module, while from module import name imports only specific components, enabling direct access without module prefix.\n",
        "\n",
        "7. How can you handle multiple exceptions in Python?\n",
        "\n",
        "Multiple exceptions can be handled either by specifying multiple except blocks for different exceptions, or by catching a tuple of exceptions in a single block:\n",
        "\n",
        "python\n",
        "try:\n",
        "    # code\n",
        "except (TypeError, ValueError):\n",
        "    # handling code\n",
        "\n",
        "8. What is the purpose of the with statement when handling files in Python?\n",
        "\n",
        "The with statement ensures proper opening and closing of files, automatically handling resource management and preventing file leaks.\n",
        "\n",
        "9. What is the difference between multithreading and multiprocessing?\n",
        "\n",
        "Multithreading handles multiple threads within a single process, suitable for I/O-bound tasks, while multiprocessing runs multiple processes, ideal for CPU-bound parallelism.\n",
        "\n",
        "10. What are the advantages of using logging in a program?\n",
        "\n",
        "Logging aids debugging, error tracking, and auditing. It keeps records that can be reviewed later for troubleshooting or monitoring.\n",
        "\n",
        "11. What is memory management in Python?\n",
        "\n",
        "Memory management in Python involves allocation, usage, and deallocation of memory using features like garbage collection and reference counting.\n",
        "\n",
        "12. What are the basic steps involved in exception handling in Python?\n",
        "\n",
        "Use try to enclose risky code, except to catch exceptions, finally for cleanup, and optionally else if no exceptions occur.\n",
        "\n",
        "13. Why is memory management important in Python?\n",
        "\n",
        "Proper memory management prevents leaks, optimizes performance, and ensures system stability, especially when dealing with large datasets or objects.\n",
        "\n",
        "14. What is the role of try and except in exception handling?\n",
        "\n",
        "try contains code that may cause errors, except defines how to handle those errors if they occur.\n",
        "\n",
        "15. How does Python's garbage collection system work?\n",
        "\n",
        "Python uses reference counting and a cyclic garbage collector to automatically detect and free unused objects, preventing memory leaks.\n",
        "\n",
        "16. What is the purpose of the else block in exception handling?\n",
        "\n",
        "Else block executes if no exceptions occur, allowing code separation between error handling and normal operation.\n",
        "\n",
        "17. What are the common logging levels in Python?\n",
        "\n",
        "Main logging levels: DEBUG, INFO, WARNING, ERROR, CRITICAL.\n",
        "\n",
        "18. What is the difference between os.fork() and multiprocessing in Python?\n",
        "\n",
        "os.fork() is a Unix-specific process-creation method; the multiprocessing module is portable and offers more features for process control.\n",
        "\n",
        "19. What is the importance of closing a file in Python?\n",
        "\n",
        "Closing a file frees system resources, ensures data is fully written, and prevents file corruption.\n",
        "\n",
        "20. What is the difference between file.read() and file.readline() in Python?\n",
        "\n",
        "file.read() reads the whole file as a string, while file.readline() reads only one line at a time.\n",
        "\n",
        "21. What is the logging module in Python used for?\n",
        "\n",
        "The logging module manages records of program events, errors, and information for debugging and system monitoring.\n",
        "\n",
        "22. What is the os module in Python used for in file handling?\n",
        "\n",
        "The os module provides utilities to interact with the operating system for tasks like creating, deleting, or checking files and directories.\n",
        "\n",
        "23. What are the challenges associated with memory management in Python?\n",
        "\n",
        "Challenges include handling memory leaks, fragmentation, circular references, and ensuring efficient garbage collection.\n",
        "\n",
        "24. How do you raise an exception manually in Python?\n",
        "\n",
        "Use the raise statement with an exception class:\n",
        "\n",
        "python\n",
        "raise ValueError('error message')\n",
        "\n",
        "25. Why is it important to use multithreading in certain applications?\n",
        "\n",
        "Multithreading improves efficiency and responsiveness in I/O-bound applications by allowing concurrent execution"
      ],
      "metadata": {
        "id": "fezHOBiEEI0l"
      }
    },
    {
      "cell_type": "markdown",
      "source": [
        "Practical Questions & Answers"
      ],
      "metadata": {
        "id": "b4mYDheDEr-f"
      }
    },
    {
      "cell_type": "markdown",
      "source": [
        "26. How can you open a file for writing in Python and write a string to it?"
      ],
      "metadata": {
        "id": "SmYAy_OmE0Rn"
      }
    },
    {
      "cell_type": "code",
      "source": [
        "with open('file.txt', 'w') as f:\n",
        "    f.write('Hello World!')\n"
      ],
      "metadata": {
        "id": "RTsr3QVvE3EX"
      },
      "execution_count": 1,
      "outputs": []
    },
    {
      "cell_type": "markdown",
      "source": [
        "27. Write a Python program to read the contents of a file and print each line"
      ],
      "metadata": {
        "id": "TjzphaRnE5hq"
      }
    },
    {
      "cell_type": "code",
      "source": [
        "with open('file.txt', 'r') as f:\n",
        "    for line in f:\n",
        "        print(line.strip())\n"
      ],
      "metadata": {
        "colab": {
          "base_uri": "https://localhost:8080/"
        },
        "id": "Mgmv_BhME-0O",
        "outputId": "31d234be-c118-4df0-fdba-938f8d51000e"
      },
      "execution_count": 2,
      "outputs": [
        {
          "output_type": "stream",
          "name": "stdout",
          "text": [
            "Hello World!\n"
          ]
        }
      ]
    },
    {
      "cell_type": "markdown",
      "source": [
        "28. How would you handle a case where the file doesn't exist while trying to open it for reading?"
      ],
      "metadata": {
        "id": "9Dqpg1iKFBsv"
      }
    },
    {
      "cell_type": "code",
      "source": [
        "try:\n",
        "    with open('nofile.txt', 'r') as f:\n",
        "        print(f.read())\n",
        "except FileNotFoundError:\n",
        "    print(\"File not found.\")\n"
      ],
      "metadata": {
        "colab": {
          "base_uri": "https://localhost:8080/"
        },
        "id": "YP5DHXFxFEhS",
        "outputId": "5d67529a-d39c-4c99-982c-470085f528d6"
      },
      "execution_count": 3,
      "outputs": [
        {
          "output_type": "stream",
          "name": "stdout",
          "text": [
            "File not found.\n"
          ]
        }
      ]
    },
    {
      "cell_type": "markdown",
      "source": [
        "29. Write a Python script that reads from one file and writes its content to another file."
      ],
      "metadata": {
        "id": "Kvp_6SNKFHzz"
      }
    },
    {
      "cell_type": "code",
      "source": [
        "with open('input.txt', 'r') as fin, open('output.txt', 'w') as fout:\n",
        "    for line in fin:\n",
        "        fout.write(line)\n"
      ],
      "metadata": {
        "colab": {
          "base_uri": "https://localhost:8080/",
          "height": 176
        },
        "id": "hQ7XnjtSFLC_",
        "outputId": "6cb17bfe-60b9-4f22-9e82-bed7be613425"
      },
      "execution_count": 4,
      "outputs": [
        {
          "output_type": "error",
          "ename": "FileNotFoundError",
          "evalue": "[Errno 2] No such file or directory: 'input.txt'",
          "traceback": [
            "\u001b[0;31m---------------------------------------------------------------------------\u001b[0m",
            "\u001b[0;31mFileNotFoundError\u001b[0m                         Traceback (most recent call last)",
            "\u001b[0;32m/tmp/ipython-input-2469952971.py\u001b[0m in \u001b[0;36m<cell line: 0>\u001b[0;34m()\u001b[0m\n\u001b[0;32m----> 1\u001b[0;31m \u001b[0;32mwith\u001b[0m \u001b[0mopen\u001b[0m\u001b[0;34m(\u001b[0m\u001b[0;34m'input.txt'\u001b[0m\u001b[0;34m,\u001b[0m \u001b[0;34m'r'\u001b[0m\u001b[0;34m)\u001b[0m \u001b[0;32mas\u001b[0m \u001b[0mfin\u001b[0m\u001b[0;34m,\u001b[0m \u001b[0mopen\u001b[0m\u001b[0;34m(\u001b[0m\u001b[0;34m'output.txt'\u001b[0m\u001b[0;34m,\u001b[0m \u001b[0;34m'w'\u001b[0m\u001b[0;34m)\u001b[0m \u001b[0;32mas\u001b[0m \u001b[0mfout\u001b[0m\u001b[0;34m:\u001b[0m\u001b[0;34m\u001b[0m\u001b[0;34m\u001b[0m\u001b[0m\n\u001b[0m\u001b[1;32m      2\u001b[0m     \u001b[0;32mfor\u001b[0m \u001b[0mline\u001b[0m \u001b[0;32min\u001b[0m \u001b[0mfin\u001b[0m\u001b[0;34m:\u001b[0m\u001b[0;34m\u001b[0m\u001b[0;34m\u001b[0m\u001b[0m\n\u001b[1;32m      3\u001b[0m         \u001b[0mfout\u001b[0m\u001b[0;34m.\u001b[0m\u001b[0mwrite\u001b[0m\u001b[0;34m(\u001b[0m\u001b[0mline\u001b[0m\u001b[0;34m)\u001b[0m\u001b[0;34m\u001b[0m\u001b[0;34m\u001b[0m\u001b[0m\n",
            "\u001b[0;31mFileNotFoundError\u001b[0m: [Errno 2] No such file or directory: 'input.txt'"
          ]
        }
      ]
    },
    {
      "cell_type": "markdown",
      "source": [
        "30. How would you catch and handle division by zero error in Python?"
      ],
      "metadata": {
        "id": "62Gu1KlIFQZb"
      }
    },
    {
      "cell_type": "code",
      "source": [
        "try:\n",
        "    x = 10 / 0\n",
        "except ZeroDivisionError:\n",
        "    print(\"Division by zero occurred.\")\n"
      ],
      "metadata": {
        "colab": {
          "base_uri": "https://localhost:8080/"
        },
        "id": "m0IJ7HnDFUXm",
        "outputId": "61e2e52f-dd9d-49ab-8682-fc84a0e0e072"
      },
      "execution_count": 5,
      "outputs": [
        {
          "output_type": "stream",
          "name": "stdout",
          "text": [
            "Division by zero occurred.\n"
          ]
        }
      ]
    },
    {
      "cell_type": "markdown",
      "source": [
        "31. Write a Python program that logs an error message to a log file when a division by zero exception occurs.\n",
        "python"
      ],
      "metadata": {
        "id": "YR-hd3PrFXSu"
      }
    },
    {
      "cell_type": "code",
      "source": [
        "import logging\n",
        "logging.basicConfig(filename='app.log', level=logging.ERROR)\n",
        "try:\n",
        "    x = 10 / 0\n",
        "except ZeroDivisionError:\n",
        "    logging.error(\"Division by zero encountered.\")\n"
      ],
      "metadata": {
        "colab": {
          "base_uri": "https://localhost:8080/"
        },
        "id": "BmA5zhmXFZ1s",
        "outputId": "4384f954-e6f4-4126-9294-1b5480538ec7"
      },
      "execution_count": 6,
      "outputs": [
        {
          "output_type": "stream",
          "name": "stderr",
          "text": [
            "ERROR:root:Division by zero encountered.\n"
          ]
        }
      ]
    },
    {
      "cell_type": "markdown",
      "source": [
        "32. How do you log information at different levels (INFO, ERROR, WARNING) in Python using the logging module?"
      ],
      "metadata": {
        "id": "KiQctTV4FcIo"
      }
    },
    {
      "cell_type": "code",
      "source": [
        "import logging\n",
        "logging.basicConfig(filename='app.log', level=logging.DEBUG)\n",
        "logging.info('This is an info message.')\n",
        "logging.warning('This is a warning.')\n",
        "logging.error('This is an error.')\n"
      ],
      "metadata": {
        "colab": {
          "base_uri": "https://localhost:8080/"
        },
        "id": "pkVdYcyPFeqR",
        "outputId": "f94da193-57cc-48c0-b5f7-fbb6a3407c2a"
      },
      "execution_count": 7,
      "outputs": [
        {
          "output_type": "stream",
          "name": "stderr",
          "text": [
            "WARNING:root:This is a warning.\n",
            "ERROR:root:This is an error.\n"
          ]
        }
      ]
    },
    {
      "cell_type": "markdown",
      "source": [
        "33. Write a program to handle a file opening error using exception handling."
      ],
      "metadata": {
        "id": "2cUWHU7hFhKb"
      }
    },
    {
      "cell_type": "code",
      "source": [
        "try:\n",
        "    with open('nofile.txt', 'r') as f:\n",
        "        print(f.read())\n",
        "except IOError as e:\n",
        "    print(f\"Error opening file: {e}\")\n"
      ],
      "metadata": {
        "colab": {
          "base_uri": "https://localhost:8080/"
        },
        "id": "BdwV_HlHFjad",
        "outputId": "31b22995-2725-4282-8464-a4110ba713ce"
      },
      "execution_count": 8,
      "outputs": [
        {
          "output_type": "stream",
          "name": "stdout",
          "text": [
            "Error opening file: [Errno 2] No such file or directory: 'nofile.txt'\n"
          ]
        }
      ]
    },
    {
      "cell_type": "markdown",
      "source": [
        "34. How can you read a file line by line and store its content in a list in Python?"
      ],
      "metadata": {
        "id": "iwQklgTjFmOA"
      }
    },
    {
      "cell_type": "code",
      "source": [
        "lines = []\n",
        "with open('file.txt', 'r') as f:\n",
        "    for line in f:\n",
        "        lines.append(line.strip())\n"
      ],
      "metadata": {
        "id": "lgXS8sEkFpVR"
      },
      "execution_count": 9,
      "outputs": []
    },
    {
      "cell_type": "markdown",
      "source": [
        "35. How can you append data to an existing file in Python?"
      ],
      "metadata": {
        "id": "oUA6hzsmFslL"
      }
    },
    {
      "cell_type": "code",
      "source": [
        "with open('file.txt', 'a') as f:\n",
        "    f.write('\\nNew data')\n"
      ],
      "metadata": {
        "id": "VqFvHqqEFxTf"
      },
      "execution_count": 10,
      "outputs": []
    },
    {
      "cell_type": "markdown",
      "source": [
        "36. Write a Python program that uses a try-except block to handle an error when attempting to access a dictionary key that doesn't exist."
      ],
      "metadata": {
        "id": "1puZJS2jF0za"
      }
    },
    {
      "cell_type": "code",
      "source": [
        "data = {'a': 1}\n",
        "try:\n",
        "    print(data['b'])\n",
        "except KeyError:\n",
        "    print(\"Key not found.\")\n"
      ],
      "metadata": {
        "colab": {
          "base_uri": "https://localhost:8080/"
        },
        "id": "Ju3DV0l5F37n",
        "outputId": "50e032b7-7ee2-4ba3-d51d-6c44ef267164"
      },
      "execution_count": 11,
      "outputs": [
        {
          "output_type": "stream",
          "name": "stdout",
          "text": [
            "Key not found.\n"
          ]
        }
      ]
    },
    {
      "cell_type": "markdown",
      "source": [
        "37. Write a program that demonstrates using multiple except blocks to handle different types of exceptions."
      ],
      "metadata": {
        "id": "4jl7pYguF63d"
      }
    },
    {
      "cell_type": "code",
      "source": [
        "try:\n",
        "    x = int('not_a_number')\n",
        "    y = 10 / 0\n",
        "except ValueError:\n",
        "    print(\"Value error occurred.\")\n",
        "except ZeroDivisionError:\n",
        "    print(\"Division by zero occurred.\")\n"
      ],
      "metadata": {
        "colab": {
          "base_uri": "https://localhost:8080/"
        },
        "id": "dQnsBKyMF9N4",
        "outputId": "3fa317b8-e5e7-4af1-b001-eacb19e60d46"
      },
      "execution_count": 12,
      "outputs": [
        {
          "output_type": "stream",
          "name": "stdout",
          "text": [
            "Value error occurred.\n"
          ]
        }
      ]
    },
    {
      "cell_type": "markdown",
      "source": [
        "38. How would you check if a file exists before attempting to read it in Python?"
      ],
      "metadata": {
        "id": "Senp0u1UF_aS"
      }
    },
    {
      "cell_type": "code",
      "source": [
        "import os\n",
        "if os.path.exists('file.txt'):\n",
        "    with open('file.txt', 'r') as f:\n",
        "        print(f.read())\n",
        "else:\n",
        "    print(\"File does not exist.\")\n"
      ],
      "metadata": {
        "colab": {
          "base_uri": "https://localhost:8080/"
        },
        "id": "tAnwJ0l5GCNF",
        "outputId": "f30e9591-49c4-4c6d-9e06-8a3552ff8250"
      },
      "execution_count": 13,
      "outputs": [
        {
          "output_type": "stream",
          "name": "stdout",
          "text": [
            "Hello World!\n",
            "New data\n"
          ]
        }
      ]
    },
    {
      "cell_type": "markdown",
      "source": [
        "39. Write a program that uses the logging module to log both informational and error messages."
      ],
      "metadata": {
        "id": "GRbFZOtEGFbV"
      }
    },
    {
      "cell_type": "code",
      "source": [
        "import logging\n",
        "logging.basicConfig(filename='app.log', level=logging.INFO)\n",
        "logging.info('Starting the program.')\n",
        "try:\n",
        "    1 / 0\n",
        "except ZeroDivisionError:\n",
        "    logging.error('Division by zero error.')\n"
      ],
      "metadata": {
        "colab": {
          "base_uri": "https://localhost:8080/"
        },
        "id": "aY5ZSbLgGIJo",
        "outputId": "000ec9ea-7b66-4cf5-ce35-adb130f0eb94"
      },
      "execution_count": 14,
      "outputs": [
        {
          "output_type": "stream",
          "name": "stderr",
          "text": [
            "ERROR:root:Division by zero error.\n"
          ]
        }
      ]
    },
    {
      "cell_type": "markdown",
      "source": [
        "40. Write a Python program that prints the content of a file and handles the case when the file is empty."
      ],
      "metadata": {
        "id": "ENMetcEzGLda"
      }
    },
    {
      "cell_type": "code",
      "source": [
        "with open('file.txt', 'r') as f:\n",
        "    content = f.read()\n",
        "    if content:\n",
        "        print(content)\n",
        "    else:\n",
        "        print(\"File is empty.\")\n"
      ],
      "metadata": {
        "colab": {
          "base_uri": "https://localhost:8080/"
        },
        "id": "_lJ6uiQRGQwx",
        "outputId": "3de873af-5a3f-4421-c5d7-932f28879db2"
      },
      "execution_count": 15,
      "outputs": [
        {
          "output_type": "stream",
          "name": "stdout",
          "text": [
            "Hello World!\n",
            "New data\n"
          ]
        }
      ]
    },
    {
      "cell_type": "markdown",
      "source": [
        "41. Demonstrate how to use memory profiling to check the memory usage of a small program.\n",
        "python"
      ],
      "metadata": {
        "id": "4E2SZbeKGT7K"
      }
    },
    {
      "cell_type": "code",
      "source": [
        "import memory_profiler\n",
        "\n",
        "@memory_profiler.profile\n",
        "def test():\n",
        "    l = [i for i in range(1000)]\n",
        "test()\n"
      ],
      "metadata": {
        "colab": {
          "base_uri": "https://localhost:8080/",
          "height": 383
        },
        "id": "O8NzVF7_GWes",
        "outputId": "c054bf2c-1451-481b-c860-b478f46e205f"
      },
      "execution_count": 16,
      "outputs": [
        {
          "output_type": "error",
          "ename": "ModuleNotFoundError",
          "evalue": "No module named 'memory_profiler'",
          "traceback": [
            "\u001b[0;31m---------------------------------------------------------------------------\u001b[0m",
            "\u001b[0;31mModuleNotFoundError\u001b[0m                       Traceback (most recent call last)",
            "\u001b[0;32m/tmp/ipython-input-3129523727.py\u001b[0m in \u001b[0;36m<cell line: 0>\u001b[0;34m()\u001b[0m\n\u001b[0;32m----> 1\u001b[0;31m \u001b[0;32mimport\u001b[0m \u001b[0mmemory_profiler\u001b[0m\u001b[0;34m\u001b[0m\u001b[0;34m\u001b[0m\u001b[0m\n\u001b[0m\u001b[1;32m      2\u001b[0m \u001b[0;34m\u001b[0m\u001b[0m\n\u001b[1;32m      3\u001b[0m \u001b[0;34m@\u001b[0m\u001b[0mmemory_profiler\u001b[0m\u001b[0;34m.\u001b[0m\u001b[0mprofile\u001b[0m\u001b[0;34m\u001b[0m\u001b[0;34m\u001b[0m\u001b[0m\n\u001b[1;32m      4\u001b[0m \u001b[0;32mdef\u001b[0m \u001b[0mtest\u001b[0m\u001b[0;34m(\u001b[0m\u001b[0;34m)\u001b[0m\u001b[0;34m:\u001b[0m\u001b[0;34m\u001b[0m\u001b[0;34m\u001b[0m\u001b[0m\n\u001b[1;32m      5\u001b[0m     \u001b[0ml\u001b[0m \u001b[0;34m=\u001b[0m \u001b[0;34m[\u001b[0m\u001b[0mi\u001b[0m \u001b[0;32mfor\u001b[0m \u001b[0mi\u001b[0m \u001b[0;32min\u001b[0m \u001b[0mrange\u001b[0m\u001b[0;34m(\u001b[0m\u001b[0;36m1000\u001b[0m\u001b[0;34m)\u001b[0m\u001b[0;34m]\u001b[0m\u001b[0;34m\u001b[0m\u001b[0;34m\u001b[0m\u001b[0m\n",
            "\u001b[0;31mModuleNotFoundError\u001b[0m: No module named 'memory_profiler'",
            "",
            "\u001b[0;31m---------------------------------------------------------------------------\u001b[0;32m\nNOTE: If your import is failing due to a missing package, you can\nmanually install dependencies using either !pip or !apt.\n\nTo view examples of installing some common dependencies, click the\n\"Open Examples\" button below.\n\u001b[0;31m---------------------------------------------------------------------------\u001b[0m\n"
          ],
          "errorDetails": {
            "actions": [
              {
                "action": "open_url",
                "actionText": "Open Examples",
                "url": "/notebooks/snippets/importing_libraries.ipynb"
              }
            ]
          }
        }
      ]
    },
    {
      "cell_type": "markdown",
      "source": [
        "42. Write a Python program to create and write a list of numbers to a file, one number per line."
      ],
      "metadata": {
        "id": "ajDH3YubGZ_N"
      }
    },
    {
      "cell_type": "code",
      "source": [
        "numbers = [1, 2, 3, 4, 5]\n",
        "with open('numbers.txt', 'w') as f:\n",
        "    for number in numbers:\n",
        "        f.write(str(number) + '\\n')\n"
      ],
      "metadata": {
        "id": "kl9hhLjEGhm7"
      },
      "execution_count": 17,
      "outputs": []
    },
    {
      "cell_type": "markdown",
      "source": [
        "43. How would you implement a basic logging setup that logs to a file with rotation after 1MB?\n",
        "python"
      ],
      "metadata": {
        "id": "1sZVDGQBGsj7"
      }
    },
    {
      "cell_type": "code",
      "source": [
        "import logging\n",
        "from logging.handlers import RotatingFileHandler\n",
        "handler = RotatingFileHandler('app.log', maxBytes=1024*1024, backupCount=2)\n",
        "logging.basicConfig(handlers=[handler], level=logging.INFO)\n",
        "logging.info('Log rotation test.')\n"
      ],
      "metadata": {
        "id": "a547SJKEGy4Q"
      },
      "execution_count": 18,
      "outputs": []
    },
    {
      "cell_type": "markdown",
      "source": [
        "44. Write a program that handles both IndexError and KeyError using a try-except block.\n",
        "python"
      ],
      "metadata": {
        "id": "1HinheBXG2hC"
      }
    },
    {
      "cell_type": "code",
      "source": [
        "data = {}\n",
        "lst = []\n",
        "try:\n",
        "    print(lst[1])\n",
        "    print(data['key'])\n",
        "except IndexError:\n",
        "    print('IndexError occurred.')\n",
        "except KeyError:\n",
        "    print('KeyError occurred.')\n"
      ],
      "metadata": {
        "colab": {
          "base_uri": "https://localhost:8080/"
        },
        "id": "z-qcm5LyG5sl",
        "outputId": "7854ff86-d3d2-4026-b0dd-a0d4bc3f429a"
      },
      "execution_count": 19,
      "outputs": [
        {
          "output_type": "stream",
          "name": "stdout",
          "text": [
            "IndexError occurred.\n"
          ]
        }
      ]
    },
    {
      "cell_type": "markdown",
      "source": [
        "45. How would you open a file and read its contents using a context manager in Python?"
      ],
      "metadata": {
        "id": "AxwpZO0nG8D4"
      }
    },
    {
      "cell_type": "code",
      "source": [
        "with open('file.txt', 'r') as f:\n",
        "    data = f.read()\n",
        "    print(data)\n"
      ],
      "metadata": {
        "colab": {
          "base_uri": "https://localhost:8080/"
        },
        "id": "xxRr3cNwG-9L",
        "outputId": "4862817e-27b9-47f1-a004-6b801f686f0c"
      },
      "execution_count": 20,
      "outputs": [
        {
          "output_type": "stream",
          "name": "stdout",
          "text": [
            "Hello World!\n",
            "New data\n"
          ]
        }
      ]
    },
    {
      "cell_type": "markdown",
      "source": [
        "46. Write a Python program that reads a file and prints the number of occurrences of a specific word."
      ],
      "metadata": {
        "id": "YI-xoGGgHB7b"
      }
    },
    {
      "cell_type": "code",
      "source": [
        "word = 'Python'\n",
        "with open('file.txt', 'r') as f:\n",
        "    count = f.read().count(word)\n",
        "    print(f\"Occurrences of '{word}':\", count)\n"
      ],
      "metadata": {
        "colab": {
          "base_uri": "https://localhost:8080/"
        },
        "id": "v9aBU8IbHEgN",
        "outputId": "356110ef-3553-415c-b1f8-d57bcf6a8e1a"
      },
      "execution_count": 21,
      "outputs": [
        {
          "output_type": "stream",
          "name": "stdout",
          "text": [
            "Occurrences of 'Python': 0\n"
          ]
        }
      ]
    },
    {
      "cell_type": "markdown",
      "source": [
        "47. How can you check if a file is empty before attempting to read its contents?"
      ],
      "metadata": {
        "id": "BxrXwD-bHH6g"
      }
    },
    {
      "cell_type": "code",
      "source": [
        "import os\n",
        "if os.path.getsize('file.txt') == 0:\n",
        "    print('File is empty.')\n",
        "else:\n",
        "    with open('file.txt', 'r') as f:\n",
        "        print(f.read())\n"
      ],
      "metadata": {
        "colab": {
          "base_uri": "https://localhost:8080/"
        },
        "id": "IVh_kzUhHKrr",
        "outputId": "d612bd1c-aa6e-43fa-e394-4a40daf9b735"
      },
      "execution_count": 22,
      "outputs": [
        {
          "output_type": "stream",
          "name": "stdout",
          "text": [
            "Hello World!\n",
            "New data\n"
          ]
        }
      ]
    },
    {
      "cell_type": "markdown",
      "source": [
        "48. Write a Python program that writes to a log file when an error occurs during file handling.\n",
        "python"
      ],
      "metadata": {
        "id": "esUD1_aNHNSt"
      }
    },
    {
      "cell_type": "code",
      "source": [
        "import logging\n",
        "logging.basicConfig(filename='file_error.log', level=logging.ERROR)\n",
        "try:\n",
        "    with open('nofile.txt', 'r') as f:\n",
        "        print(f.read())\n",
        "except Exception as e:\n",
        "    logging.error(f\"File handling error: {e}\")\n"
      ],
      "metadata": {
        "colab": {
          "base_uri": "https://localhost:8080/"
        },
        "id": "qUsYTR_IHPrv",
        "outputId": "16ca2c91-4057-4b6d-8952-ea736e5505ae"
      },
      "execution_count": 23,
      "outputs": [
        {
          "output_type": "stream",
          "name": "stderr",
          "text": [
            "ERROR:root:File handling error: [Errno 2] No such file or directory: 'nofile.txt'\n"
          ]
        }
      ]
    }
  ]
}