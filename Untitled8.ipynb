{
  "nbformat": 4,
  "nbformat_minor": 0,
  "metadata": {
    "colab": {
      "provenance": [],
      "authorship_tag": "ABX9TyOY8shk0o3YDBU1JB6N5GGC",
      "include_colab_link": true
    },
    "kernelspec": {
      "name": "python3",
      "display_name": "Python 3"
    },
    "language_info": {
      "name": "python"
    }
  },
  "cells": [
    {
      "cell_type": "markdown",
      "metadata": {
        "id": "view-in-github",
        "colab_type": "text"
      },
      "source": [
        "<a href=\"https://colab.research.google.com/github/virendrasonekar97/PYTHON/blob/main/Untitled8.ipynb\" target=\"_parent\"><img src=\"https://colab.research.google.com/assets/colab-badge.svg\" alt=\"Open In Colab\"/></a>"
      ]
    },
    {
      "cell_type": "markdown",
      "source": [
        "Statistics Basics| Assignment"
      ],
      "metadata": {
        "id": "lnHZi-5gViuz"
      }
    },
    {
      "cell_type": "markdown",
      "source": [
        "1. Difference Between Descriptive and Inferential Statistics\n",
        "\n",
        "\n",
        "Descriptive statistics summarize and present features of a dataset using measures like mean, median, mode, range, and visualizations, without making generalizations beyond the data at hand.\n",
        "Inferential statistics use sample data to make predictions or inferences about a larger population, relying on methods like hypothesis testing, regression, and confidence intervals."
      ],
      "metadata": {
        "id": "VtND_wocVm4u"
      }
    },
    {
      "cell_type": "markdown",
      "source": [
        "2. What is Sampling? Random vs Stratified Sampling\n",
        "\n",
        "\n",
        "Sampling means selecting a subset from a population for study.\n",
        "Random sampling gives every member an equal chance to be picked.\n",
        "Stratified sampling divides the population into subgroups (strata) and then samples from each to ensure representation of all groups"
      ],
      "metadata": {
        "id": "lAiPsJSrVvgT"
      }
    },
    {
      "cell_type": "markdown",
      "source": [
        "3. Mean, Median, and Mode: Definition & Importance\n",
        "\n",
        "\n",
        "Mean: The sum of all values divided by the count of values.\n",
        "\n",
        "Median: The middle value when data is sorted.\n",
        "\n",
        "Mode: The value that occurs most frequently.\n",
        "These are important measures of central tendency, helping summarize how data values are clustered or spread out"
      ],
      "metadata": {
        "id": "l_ULJc9nV03E"
      }
    },
    {
      "cell_type": "markdown",
      "source": [
        "4. Skewness and Kurtosis; Positive Skew\n",
        "\n",
        "\n",
        "Skewness measures the asymmetry of data distribution.\n",
        "Kurtosis describes the 'peakedness' or flatness.\n",
        "A positive skew means the right tail is longer; most data values are low, with a few high values pulling the mean to the right.\n",
        "\n"
      ],
      "metadata": {
        "id": "pdhgME4DV64a"
      }
    },
    {
      "cell_type": "markdown",
      "source": [
        "5. Python Program: Mean, Median, Mode"
      ],
      "metadata": {
        "id": "EXGd8GSYV_78"
      }
    },
    {
      "cell_type": "code",
      "source": [
        "import statistics\n",
        "\n",
        "numbers = [12, 15, 12, 18, 19, 12, 20, 22, 19, 19, 24, 24, 24, 26, 28]\n",
        "mean = statistics.mean(numbers)\n",
        "median = statistics.median(numbers)\n",
        "mode = statistics.mode(numbers)\n",
        "\n",
        "print(\"Mean:\", mean)\n",
        "print(\"Median:\", median)\n",
        "print(\"Mode:\", mode)\n"
      ],
      "metadata": {
        "colab": {
          "base_uri": "https://localhost:8080/"
        },
        "id": "e8DG6gmkWEAA",
        "outputId": "e491c1ed-c9ba-42a4-c1b1-1956b4dbb9e2"
      },
      "execution_count": 1,
      "outputs": [
        {
          "output_type": "stream",
          "name": "stdout",
          "text": [
            "Mean: 19.6\n",
            "Median: 19\n",
            "Mode: 12\n"
          ]
        }
      ]
    },
    {
      "cell_type": "markdown",
      "source": [
        "6. Covariance & Correlation of Two Lists"
      ],
      "metadata": {
        "id": "tZTTW-X5WI_U"
      }
    },
    {
      "cell_type": "code",
      "source": [
        "import numpy as np\n",
        "\n",
        "listx = [10, 20, 30, 40, 50]\n",
        "listy = [15, 25, 35, 45, 60]\n",
        "\n",
        "covariance = np.cov(listx, listy, bias=True)[0][1]\n",
        "correlation = np.corrcoef(listx, listy)[0][1]\n",
        "\n",
        "print(\"Covariance:\", covariance)\n",
        "print(\"Correlation:\", correlation)\n"
      ],
      "metadata": {
        "colab": {
          "base_uri": "https://localhost:8080/"
        },
        "id": "qbY0r6bXWMSQ",
        "outputId": "8ce88c5a-148a-4fa1-e932-cfec7282d5cf"
      },
      "execution_count": 2,
      "outputs": [
        {
          "output_type": "stream",
          "name": "stdout",
          "text": [
            "Covariance: 220.0\n",
            "Correlation: 0.995893206467704\n"
          ]
        }
      ]
    },
    {
      "cell_type": "markdown",
      "source": [
        "7. Boxplot and Outliers"
      ],
      "metadata": {
        "id": "apT5wjvzWOtm"
      }
    },
    {
      "cell_type": "code",
      "source": [
        "import matplotlib.pyplot as plt\n",
        "\n",
        "data = [12, 14, 14, 15, 18, 19, 19, 21, 22, 22, 23, 23, 24, 26, 29, 35]\n",
        "plt.boxplot(data)\n",
        "plt.show()\n"
      ],
      "metadata": {
        "colab": {
          "base_uri": "https://localhost:8080/",
          "height": 430
        },
        "id": "6Sp-fiE-WRKo",
        "outputId": "27022b3f-ed5f-4767-9580-b3811d638109"
      },
      "execution_count": 3,
      "outputs": [
        {
          "output_type": "display_data",
          "data": {
            "text/plain": [
              "<Figure size 640x480 with 1 Axes>"
            ],
            "image/png": "[encoded data removed]"
          },
          "metadata": {}
        }
      ]
    },
    {
      "cell_type": "markdown",
      "source": [
        "8. Advertising Spend vs Daily Sales: Covariance and Correlation\n",
        "Covariance and correlation help analyze whether spending on ads is related to daily sales."
      ],
      "metadata": {
        "id": "x0RabHQoWUeP"
      }
    },
    {
      "cell_type": "code",
      "source": [
        "import numpy as np\n",
        "\n",
        "advertisingspend = [200, 250, 300, 400, 500]\n",
        "dailysales = [2200, 2450, 2750, 3200, 4000]\n",
        "\n",
        "correlation = np.corrcoef(advertisingspend, dailysales)[0][1]\n",
        "print(\"Correlation:\", correlation)\n"
      ],
      "metadata": {
        "colab": {
          "base_uri": "https://localhost:8080/"
        },
        "id": "LSIMxQNYWYfQ",
        "outputId": "756c7257-e9bd-45db-c836-cea451701c98"
      },
      "execution_count": 4,
      "outputs": [
        {
          "output_type": "stream",
          "name": "stdout",
          "text": [
            "Correlation: 0.9935824101653329\n"
          ]
        }
      ]
    },
    {
      "cell_type": "markdown",
      "source": [
        "9. Customer Survey Data: Summary Statistics & Visualization\n",
        "Summary statistics: mean, standard deviation, median\n",
        "Visualization: histogram"
      ],
      "metadata": {
        "id": "1WmExvMuWb43"
      }
    },
    {
      "cell_type": "code",
      "source": [
        "import matplotlib.pyplot as plt\n",
        "\n",
        "surveyscores = [7, 8, 5, 9, 6, 7, 8, 9, 10, 4, 7, 6, 9, 8, 7]\n",
        "plt.hist(surveyscores, bins=6)\n",
        "plt.xlabel('Scores')\n",
        "plt.ylabel('Frequency')\n",
        "plt.title('Customer Satisfaction Survey Scores')\n",
        "plt.show()\n"
      ],
      "metadata": {
        "colab": {
          "base_uri": "https://localhost:8080/",
          "height": 472
        },
        "id": "zv71gFZyWemS",
        "outputId": "ef151444-e519-4b79-e018-bf42f78f82af"
      },
      "execution_count": 5,
      "outputs": [
        {
          "output_type": "display_data",
          "data": {
            "text/plain": [
              "<Figure size 640x480 with 1 Axes>"
            ],
            "image/png": "[encoded data removed]"
          },
          "metadata": {}
        }
      ]
    }
  ]
}