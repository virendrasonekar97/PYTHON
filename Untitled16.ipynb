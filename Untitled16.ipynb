{
  "nbformat": 4,
  "nbformat_minor": 0,
  "metadata": {
    "colab": {
      "provenance": [],
      "authorship_tag": "ABX9TyMrz1VJLhBkXXAjR4IhdSae",
      "include_colab_link": true
    },
    "kernelspec": {
      "name": "python3",
      "display_name": "Python 3"
    },
    "language_info": {
      "name": "python"
    }
  },
  "cells": [
    {
      "cell_type": "markdown",
      "metadata": {
        "id": "view-in-github",
        "colab_type": "text"
      },
      "source": [
        "<a href=\"https://colab.research.google.com/github/virendrasonekar97/PYTHON/blob/main/Untitled16.ipynb\" target=\"_parent\"><img src=\"https://colab.research.google.com/assets/colab-badge.svg\" alt=\"Open In Colab\"/></a>"
      ]
    },
    {
      "cell_type": "markdown",
      "source": [
        "Supervised Learning: Regression\n",
        "Models and Performance Metrics |\n",
        "Solution\n"
      ],
      "metadata": {
        "id": "fRas99RIOlGY"
      }
    },
    {
      "cell_type": "markdown",
      "source": [
        "1. What is Simple Linear Regression (SLR)? Explain its purpose.\n",
        "\n",
        "\n",
        "Simple Linear Regression is a statistical technique that models the linear relationship between two variables: one independent variable (X) and one dependent variable (Y). Its main purpose is to predict the value of Y based on the given value of X."
      ],
      "metadata": {
        "id": "RUxdorAJP9XW"
      }
    },
    {
      "cell_type": "markdown",
      "source": [
        "2. What are the key assumptions of Simple Linear Regression?\n",
        "Key assumptions include:​​\n",
        "\n",
        "\n",
        "There is a linear relationship between independent and dependent variables.\n",
        "\n",
        "The errors (residuals) are normally distributed.\n",
        "\n",
        "The mean of errors is zero.\n",
        "\n",
        "Constant variance of errors (homoscedasticity).\n",
        "\n",
        "Observations are independent of each other."
      ],
      "metadata": {
        "id": "gXr4RTk_Qj_U"
      }
    },
    {
      "cell_type": "markdown",
      "source": [
        "3. Write the mathematical equation for a simple linear regression model and explain each term.\n",
        "Equation:\n",
        "\n",
        "Y\n",
        "=\n",
        "β\n",
        "0\n",
        "+\n",
        "β\n",
        "1\n",
        "X\n",
        "+\n",
        "ε\n",
        "Y=β\n",
        "0\n",
        " +β\n",
        "1\n",
        " X+ε\n",
        "Where:\n",
        "\n",
        "Y\n",
        "Y = Dependent variable (response)\n",
        "\n",
        "X\n",
        "X = Independent variable (predictor)\n",
        "\n",
        "β\n",
        "0\n",
        "β\n",
        "0\n",
        "  = Intercept (value of Y when X is zero)\n",
        "\n",
        "β\n",
        "1\n",
        "β\n",
        "1\n",
        "  = Slope (effect of X on Y)\n",
        "\n",
        "ε\n",
        "ε = Error term (difference between predicted and actual values)"
      ],
      "metadata": {
        "id": "ry_Rb0sdQpDi"
      }
    },
    {
      "cell_type": "markdown",
      "source": [
        "4. Provide a real-world example where simple linear regression can be applied.\n",
        "\n",
        "\n",
        "A real-world example is predicting house prices based on their area. As the area (X) increases, the house price (Y) generally increases.​​\n",
        "\n",
        "\n",
        "\n",
        "5. What is the method of least squares in linear regression?\n",
        "\n",
        "\n",
        "This method fits the best line through the data by minimizing the sum of the squared differences between observed and predicted values (errors)."
      ],
      "metadata": {
        "id": "01CRMyQeQuek"
      }
    },
    {
      "cell_type": "markdown",
      "source": [
        "6. What is Logistic Regression? How does it differ from Linear Regression?\n",
        "\n",
        "\n",
        "Logistic Regression is used for categorical dependent variables (like yes/no), whereas Linear Regression is used for continuous dependent variables. Logistic Regression predicts probabilities between 0 and 1, while Linear Regression predicts any real value.​​\n",
        "\n",
        "\n",
        "\n",
        "7. Name and briefly describe three common evaluation metrics for regression models.\n",
        "\n",
        "\n",
        "Mean Squared Error (MSE): Average of squared differences between predicted and actual values.\n",
        "\n",
        "Root Mean Squared Error (RMSE): Square root of MSE.\n",
        "\n",
        "Mean Absolute Error (MAE): Average of absolute differences between predicted and actual values.​​\n",
        "\n",
        "\n",
        "\n",
        "8. What is the purpose of the R-squared metric in regression analysis?\n",
        "\n",
        "\n",
        "R-squared indicates the proportion of the variance in the dependent variable that is explained by the independent variable in the model"
      ],
      "metadata": {
        "id": "Gu_pCBdnQ1zb"
      }
    },
    {
      "cell_type": "markdown",
      "source": [
        "9. Write Python code to fit a simple linear regression model using scikit-learn and print the slope and intercept.\n",
        "python"
      ],
      "metadata": {
        "id": "rmnXeJPfQ_09"
      }
    },
    {
      "cell_type": "code",
      "execution_count": 1,
      "metadata": {
        "colab": {
          "base_uri": "https://localhost:8080/"
        },
        "id": "7H8ajN1aOjFo",
        "outputId": "3f078d0e-920a-4dc2-bd4f-b915d70988ae"
      },
      "outputs": [
        {
          "output_type": "stream",
          "name": "stdout",
          "text": [
            "Slope (Coefficient): 0.6999999999999997\n",
            "Intercept: 2.000000000000001\n"
          ]
        }
      ],
      "source": [
        "from sklearn.linear_model import LinearRegression\n",
        "\n",
        "X = [[1], [2], [3], [4]]\n",
        "y = [2, 4, 5, 4]\n",
        "\n",
        "model = LinearRegression()\n",
        "model.fit(X, y)\n",
        "print(\"Slope (Coefficient):\", model.coef_[0])\n",
        "print(\"Intercept:\", model.intercept_)\n"
      ]
    },
    {
      "cell_type": "markdown",
      "source": [
        "This code fits a Linear Regression model on X and y, then prints the slope and intercept."
      ],
      "metadata": {
        "id": "KBBdvKtdRHv2"
      }
    },
    {
      "cell_type": "markdown",
      "source": [
        "10. How do you interpret the coefficients in a simple linear regression model?\n",
        "\n",
        "\n",
        "The slope (coefficient,\n",
        "β\n",
        "1\n",
        "β\n",
        "1\n",
        " ) tells how much Y changes on average with a one-unit increase in X. The intercept (\n",
        "β\n",
        "0\n",
        "β\n",
        "0\n",
        " ) is the predicted value of Y when X is zero."
      ],
      "metadata": {
        "id": "wdTY9-9TRIWk"
      }
    },
    {
      "cell_type": "markdown",
      "source": [],
      "metadata": {
        "id": "G1dY76vpRMDv"
      }
    }
  ]
}